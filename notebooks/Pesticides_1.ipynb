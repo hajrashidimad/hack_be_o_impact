{
 "cells": [
  {
   "cell_type": "code",
   "execution_count": 1,
   "metadata": {
    "ExecuteTime": {
     "end_time": "2021-02-10T13:18:21.127745Z",
     "start_time": "2021-02-10T13:18:19.179846Z"
    }
   },
   "outputs": [],
   "source": [
    "import pandas as pd\n",
    "import matplotlib.pyplot as plt\n",
    "import seaborn as sns\n",
    "import numpy as np"
   ]
  },
  {
   "cell_type": "code",
   "execution_count": 2,
   "metadata": {
    "ExecuteTime": {
     "end_time": "2021-02-10T13:18:22.402300Z",
     "start_time": "2021-02-10T13:18:21.131574Z"
    }
   },
   "outputs": [],
   "source": [
    "\n",
    "pest_2017_p1 = pd.read_excel(\"../data/original/2017/Pesticides/PESTICIDES_2017_P1.xlsx\")\n",
    "pest_2017_p2 = pd.read_excel(\"../data/original/2017/Pesticides/PESTICIDES_2017_P2.xlsx\")\n",
    "pest_2017_p3 = pd.read_excel(\"../data/original/2017/Pesticides/PESTICIDES_2017_P3.xlsx\")\n",
    "pest_2017_p4 = pd.read_excel(\"../data/original/2017/Pesticides/PESTICIDES_2017_P4.xlsx\")\n",
    "\n",
    "pest_2018_p1 = pd.read_excel(\"../data/original/2018/Pesticides/PESTICIDES_2018_P1.xlsx\")\n",
    "pest_2018_p2 = pd.read_excel(\"../data/original/2018/Pesticides/PESTICIDES_2018_P2.xlsx\")\n",
    "pest_2018_p3 = pd.read_excel(\"../data/original/2018/Pesticides/PESTICIDES_2018_P3.xlsx\")\n",
    "pest_2018_p4 = pd.read_excel(\"../data/original/2018/Pesticides/PESTICIDES_2018_P4.xlsx\")\n",
    "\n",
    "\n",
    "pest_2019_p1 = pd.read_excel(\"../data/original/2019/Pesticides/PESTICIDES_2019_P1.xlsx\")\n",
    "pest_2019_p2 = pd.read_excel(\"../data/original/2019/Pesticides/PESTICIDES_2019_P2.xlsx\")\n",
    "pest_2019_p3 = pd.read_excel(\"../data/original/2019/Pesticides/PESTICIDES_2019_P3.xlsx\")\n",
    "pest_2019_p4 = pd.read_excel(\"../data/original/2019/Pesticides/PESTICIDES_2019_P4.xlsx\")\n",
    "\n",
    "\n",
    "pest_2020_p1 = pd.read_excel(\"../data/original/2020/Pesticides/PESTICIDES_2020_P1.xlsx\")\n",
    "pest_2020_p2 = pd.read_excel(\"../data/original/2020/Pesticides/PESTICIDES_2020_P2.xlsx\")\n",
    "pest_2020_p3 = pd.read_excel(\"../data/original/2020/Pesticides/PESTICIDES_2020_P3.xlsx\")\n",
    "pest_2020_p4 = pd.read_excel(\"../data/original/2020/Pesticides/PESTICIDES_2020_P4.xlsx\")\n",
    "lmr_pest = pd.read_excel(\"../data/original/pesticides.xlsx\")\n",
    "\n",
    "\n",
    "df_pesticides = pd.read_excel(\"../data/original/pesticides.xlsx\")\n",
    "pesticides = pd.concat([pest_2020_p1,pest_2020_p2,pest_2020_p3,pest_2020_p4,pest_2019_p1,pest_2019_p2,pest_2019_p3,pest_2019_p4,pest_2018_p1,pest_2018_p2,pest_2018_p3,pest_2018_p4,pest_2017_p1,pest_2017_p2,pest_2017_p3,pest_2017_p4])"
   ]
  },
  {
   "cell_type": "code",
   "execution_count": 3,
   "metadata": {
    "ExecuteTime": {
     "end_time": "2021-02-10T13:18:22.468074Z",
     "start_time": "2021-02-10T13:18:22.404902Z"
    }
   },
   "outputs": [
    {
     "data": {
      "text/html": [
       "<div>\n",
       "<style scoped>\n",
       "    .dataframe tbody tr th:only-of-type {\n",
       "        vertical-align: middle;\n",
       "    }\n",
       "\n",
       "    .dataframe tbody tr th {\n",
       "        vertical-align: top;\n",
       "    }\n",
       "\n",
       "    .dataframe thead th {\n",
       "        text-align: right;\n",
       "    }\n",
       "</style>\n",
       "<table border=\"1\" class=\"dataframe\">\n",
       "  <thead>\n",
       "    <tr style=\"text-align: right;\">\n",
       "      <th></th>\n",
       "      <th>REF....SUBSTANCE</th>\n",
       "      <th>PERIOD</th>\n",
       "      <th>X6.benzylaminopurine</th>\n",
       "      <th>Aclonifen</th>\n",
       "      <th>Ametoctradin</th>\n",
       "      <th>Anthraquinone</th>\n",
       "      <th>Azoxystrobin</th>\n",
       "      <th>Benalaxyl</th>\n",
       "      <th>Boscalid</th>\n",
       "      <th>Captan</th>\n",
       "      <th>...</th>\n",
       "      <th>Chlorotoluron</th>\n",
       "      <th>Propargite</th>\n",
       "      <th>Aldrin</th>\n",
       "      <th>Cyanofenphos</th>\n",
       "      <th>Cypermethrin</th>\n",
       "      <th>Pencycuron</th>\n",
       "      <th>X2.phenylphenol</th>\n",
       "      <th>Famoxadone</th>\n",
       "      <th>Tetradifon</th>\n",
       "      <th>Flufenacet</th>\n",
       "    </tr>\n",
       "  </thead>\n",
       "  <tbody>\n",
       "    <tr>\n",
       "      <th>0</th>\n",
       "      <td>B0012</td>\n",
       "      <td>2020/P1</td>\n",
       "      <td>0.0</td>\n",
       "      <td>0.0048</td>\n",
       "      <td>0.0</td>\n",
       "      <td>0.0</td>\n",
       "      <td>0.0</td>\n",
       "      <td>0.0</td>\n",
       "      <td>0.0</td>\n",
       "      <td>0.270</td>\n",
       "      <td>...</td>\n",
       "      <td>NaN</td>\n",
       "      <td>NaN</td>\n",
       "      <td>NaN</td>\n",
       "      <td>NaN</td>\n",
       "      <td>NaN</td>\n",
       "      <td>NaN</td>\n",
       "      <td>NaN</td>\n",
       "      <td>NaN</td>\n",
       "      <td>NaN</td>\n",
       "      <td>NaN</td>\n",
       "    </tr>\n",
       "    <tr>\n",
       "      <th>1</th>\n",
       "      <td>B0017</td>\n",
       "      <td>2020/P1</td>\n",
       "      <td>0.0</td>\n",
       "      <td>0.0000</td>\n",
       "      <td>0.0</td>\n",
       "      <td>0.0</td>\n",
       "      <td>0.0</td>\n",
       "      <td>0.0</td>\n",
       "      <td>0.0</td>\n",
       "      <td>0.016</td>\n",
       "      <td>...</td>\n",
       "      <td>NaN</td>\n",
       "      <td>NaN</td>\n",
       "      <td>NaN</td>\n",
       "      <td>NaN</td>\n",
       "      <td>NaN</td>\n",
       "      <td>NaN</td>\n",
       "      <td>NaN</td>\n",
       "      <td>NaN</td>\n",
       "      <td>NaN</td>\n",
       "      <td>NaN</td>\n",
       "    </tr>\n",
       "    <tr>\n",
       "      <th>2</th>\n",
       "      <td>B0019</td>\n",
       "      <td>2020/P1</td>\n",
       "      <td>0.0</td>\n",
       "      <td>0.0000</td>\n",
       "      <td>0.0</td>\n",
       "      <td>0.0</td>\n",
       "      <td>0.0</td>\n",
       "      <td>0.0</td>\n",
       "      <td>0.0</td>\n",
       "      <td>0.011</td>\n",
       "      <td>...</td>\n",
       "      <td>NaN</td>\n",
       "      <td>NaN</td>\n",
       "      <td>NaN</td>\n",
       "      <td>NaN</td>\n",
       "      <td>NaN</td>\n",
       "      <td>NaN</td>\n",
       "      <td>NaN</td>\n",
       "      <td>NaN</td>\n",
       "      <td>NaN</td>\n",
       "      <td>NaN</td>\n",
       "    </tr>\n",
       "    <tr>\n",
       "      <th>3</th>\n",
       "      <td>B0021</td>\n",
       "      <td>2020/P1</td>\n",
       "      <td>0.0</td>\n",
       "      <td>0.0000</td>\n",
       "      <td>0.0</td>\n",
       "      <td>0.0</td>\n",
       "      <td>0.0</td>\n",
       "      <td>0.0</td>\n",
       "      <td>0.0</td>\n",
       "      <td>0.010</td>\n",
       "      <td>...</td>\n",
       "      <td>NaN</td>\n",
       "      <td>NaN</td>\n",
       "      <td>NaN</td>\n",
       "      <td>NaN</td>\n",
       "      <td>NaN</td>\n",
       "      <td>NaN</td>\n",
       "      <td>NaN</td>\n",
       "      <td>NaN</td>\n",
       "      <td>NaN</td>\n",
       "      <td>NaN</td>\n",
       "    </tr>\n",
       "    <tr>\n",
       "      <th>4</th>\n",
       "      <td>B0023</td>\n",
       "      <td>2020/P1</td>\n",
       "      <td>0.0</td>\n",
       "      <td>0.0000</td>\n",
       "      <td>0.0</td>\n",
       "      <td>0.0</td>\n",
       "      <td>0.0</td>\n",
       "      <td>0.0</td>\n",
       "      <td>0.0</td>\n",
       "      <td>0.011</td>\n",
       "      <td>...</td>\n",
       "      <td>NaN</td>\n",
       "      <td>NaN</td>\n",
       "      <td>NaN</td>\n",
       "      <td>NaN</td>\n",
       "      <td>NaN</td>\n",
       "      <td>NaN</td>\n",
       "      <td>NaN</td>\n",
       "      <td>NaN</td>\n",
       "      <td>NaN</td>\n",
       "      <td>NaN</td>\n",
       "    </tr>\n",
       "  </tbody>\n",
       "</table>\n",
       "<p>5 rows × 117 columns</p>\n",
       "</div>"
      ],
      "text/plain": [
       "  REF....SUBSTANCE   PERIOD  X6.benzylaminopurine  Aclonifen  Ametoctradin  \\\n",
       "0            B0012  2020/P1                   0.0     0.0048           0.0   \n",
       "1            B0017  2020/P1                   0.0     0.0000           0.0   \n",
       "2            B0019  2020/P1                   0.0     0.0000           0.0   \n",
       "3            B0021  2020/P1                   0.0     0.0000           0.0   \n",
       "4            B0023  2020/P1                   0.0     0.0000           0.0   \n",
       "\n",
       "   Anthraquinone  Azoxystrobin  Benalaxyl  Boscalid  Captan  ...  \\\n",
       "0            0.0           0.0        0.0       0.0   0.270  ...   \n",
       "1            0.0           0.0        0.0       0.0   0.016  ...   \n",
       "2            0.0           0.0        0.0       0.0   0.011  ...   \n",
       "3            0.0           0.0        0.0       0.0   0.010  ...   \n",
       "4            0.0           0.0        0.0       0.0   0.011  ...   \n",
       "\n",
       "   Chlorotoluron  Propargite  Aldrin  Cyanofenphos  Cypermethrin  Pencycuron  \\\n",
       "0            NaN         NaN     NaN           NaN           NaN         NaN   \n",
       "1            NaN         NaN     NaN           NaN           NaN         NaN   \n",
       "2            NaN         NaN     NaN           NaN           NaN         NaN   \n",
       "3            NaN         NaN     NaN           NaN           NaN         NaN   \n",
       "4            NaN         NaN     NaN           NaN           NaN         NaN   \n",
       "\n",
       "   X2.phenylphenol  Famoxadone  Tetradifon  Flufenacet  \n",
       "0              NaN         NaN         NaN         NaN  \n",
       "1              NaN         NaN         NaN         NaN  \n",
       "2              NaN         NaN         NaN         NaN  \n",
       "3              NaN         NaN         NaN         NaN  \n",
       "4              NaN         NaN         NaN         NaN  \n",
       "\n",
       "[5 rows x 117 columns]"
      ]
     },
     "execution_count": 3,
     "metadata": {},
     "output_type": "execute_result"
    }
   ],
   "source": [
    "pesticides.head()"
   ]
  },
  {
   "cell_type": "code",
   "execution_count": 4,
   "metadata": {
    "ExecuteTime": {
     "end_time": "2021-02-10T13:18:22.502669Z",
     "start_time": "2021-02-10T13:18:22.474355Z"
    },
    "scrolled": true
   },
   "outputs": [
    {
     "data": {
      "text/html": [
       "<div>\n",
       "<style scoped>\n",
       "    .dataframe tbody tr th:only-of-type {\n",
       "        vertical-align: middle;\n",
       "    }\n",
       "\n",
       "    .dataframe tbody tr th {\n",
       "        vertical-align: top;\n",
       "    }\n",
       "\n",
       "    .dataframe thead th {\n",
       "        text-align: right;\n",
       "    }\n",
       "</style>\n",
       "<table border=\"1\" class=\"dataframe\">\n",
       "  <thead>\n",
       "    <tr style=\"text-align: right;\">\n",
       "      <th></th>\n",
       "      <th>importName</th>\n",
       "      <th>name</th>\n",
       "      <th>statusEN</th>\n",
       "      <th>LMR</th>\n",
       "      <th>familyEN</th>\n",
       "      <th>typeEN</th>\n",
       "    </tr>\n",
       "  </thead>\n",
       "  <tbody>\n",
       "    <tr>\n",
       "      <th>0</th>\n",
       "      <td>Aclonifen</td>\n",
       "      <td>aclonifen</td>\n",
       "      <td>authorized</td>\n",
       "      <td>0.05</td>\n",
       "      <td>diphenyl ether</td>\n",
       "      <td>herbicide</td>\n",
       "    </tr>\n",
       "    <tr>\n",
       "      <th>1</th>\n",
       "      <td>Aldrin</td>\n",
       "      <td>aldrin</td>\n",
       "      <td>prohibited</td>\n",
       "      <td>0.01</td>\n",
       "      <td>organochlorine</td>\n",
       "      <td>insecticide</td>\n",
       "    </tr>\n",
       "    <tr>\n",
       "      <th>2</th>\n",
       "      <td>Ametoctradin</td>\n",
       "      <td>ametoctradin</td>\n",
       "      <td>authorized</td>\n",
       "      <td>0.05</td>\n",
       "      <td>triazolopyrimidine</td>\n",
       "      <td>fungicide</td>\n",
       "    </tr>\n",
       "    <tr>\n",
       "      <th>3</th>\n",
       "      <td>Anthraquinone</td>\n",
       "      <td>anthraquinone</td>\n",
       "      <td>prohibited</td>\n",
       "      <td>0.02</td>\n",
       "      <td>polycyclic aromatic hydrocarbon</td>\n",
       "      <td>bird repellant</td>\n",
       "    </tr>\n",
       "    <tr>\n",
       "      <th>4</th>\n",
       "      <td>Azoxystrobin</td>\n",
       "      <td>azoxystrobin</td>\n",
       "      <td>authorized</td>\n",
       "      <td>0.05</td>\n",
       "      <td>strobilurin</td>\n",
       "      <td>fungicide</td>\n",
       "    </tr>\n",
       "  </tbody>\n",
       "</table>\n",
       "</div>"
      ],
      "text/plain": [
       "      importName           name    statusEN   LMR  \\\n",
       "0      Aclonifen      aclonifen  authorized  0.05   \n",
       "1         Aldrin         aldrin  prohibited  0.01   \n",
       "2   Ametoctradin   ametoctradin  authorized  0.05   \n",
       "3  Anthraquinone  anthraquinone  prohibited  0.02   \n",
       "4   Azoxystrobin   azoxystrobin  authorized  0.05   \n",
       "\n",
       "                          familyEN          typeEN  \n",
       "0                   diphenyl ether       herbicide  \n",
       "1                   organochlorine     insecticide  \n",
       "2               triazolopyrimidine       fungicide  \n",
       "3  polycyclic aromatic hydrocarbon  bird repellant  \n",
       "4                      strobilurin       fungicide  "
      ]
     },
     "execution_count": 4,
     "metadata": {},
     "output_type": "execute_result"
    }
   ],
   "source": [
    "lmr_pest.head()"
   ]
  },
  {
   "cell_type": "code",
   "execution_count": 5,
   "metadata": {
    "ExecuteTime": {
     "end_time": "2021-02-10T13:18:22.553933Z",
     "start_time": "2021-02-10T13:18:22.521463Z"
    }
   },
   "outputs": [
    {
     "data": {
      "text/plain": [
       "0             herbicide\n",
       "1           insecticide\n",
       "2             fungicide\n",
       "3        bird repellant\n",
       "4             fungicide\n",
       "             ...       \n",
       "110           herbicide\n",
       "111           fungicide\n",
       "112    growth regulator\n",
       "113           fungicide\n",
       "114                 NaN\n",
       "Name: typeEN, Length: 115, dtype: object"
      ]
     },
     "execution_count": 5,
     "metadata": {},
     "output_type": "execute_result"
    }
   ],
   "source": [
    "lmr_pest[lmr_pest.columns][\"typeEN\"]\n"
   ]
  },
  {
   "cell_type": "code",
   "execution_count": 6,
   "metadata": {
    "ExecuteTime": {
     "end_time": "2021-02-10T13:18:22.611173Z",
     "start_time": "2021-02-10T13:18:22.564096Z"
    },
    "scrolled": false
   },
   "outputs": [
    {
     "data": {
      "text/plain": [
       "array(['herbicide', 'insecticide', 'fungicide', 'bird repellant',\n",
       "       'growth regulator, fungicide and insecticide',\n",
       "       'insecticide, molluscicide and bird repellent', 'acaricide',\n",
       "       'fungicide and growth regulator', 'growth regulator', nan],\n",
       "      dtype=object)"
      ]
     },
     "execution_count": 6,
     "metadata": {},
     "output_type": "execute_result"
    }
   ],
   "source": [
    "lmr_pest[\"typeEN\"].unique()"
   ]
  },
  {
   "cell_type": "code",
   "execution_count": 7,
   "metadata": {
    "ExecuteTime": {
     "end_time": "2021-02-10T13:18:22.653281Z",
     "start_time": "2021-02-10T13:18:22.627686Z"
    }
   },
   "outputs": [
    {
     "data": {
      "text/plain": [
       "3             Anthraquinone\n",
       "34            Diphenylamine\n",
       "69         Methiocarb_total\n",
       "86               Propargite\n",
       "100            Tebuconazole\n",
       "112    X6.benzylaminopurine\n",
       "114                     NaN\n",
       "Name: importName, dtype: object"
      ]
     },
     "execution_count": 7,
     "metadata": {},
     "output_type": "execute_result"
    }
   ],
   "source": [
    "lmr_pest[(lmr_pest[\"typeEN\"] != \"fungicide\" ) & (lmr_pest[\"typeEN\"] != \"insecticide\" ) & (lmr_pest[\"typeEN\"] != \"herbicide\" ) ][\"importName\"]"
   ]
  },
  {
   "cell_type": "code",
   "execution_count": 8,
   "metadata": {
    "ExecuteTime": {
     "end_time": "2021-02-10T13:18:22.673197Z",
     "start_time": "2021-02-10T13:18:22.666422Z"
    }
   },
   "outputs": [],
   "source": [
    "# df_fungicide = df_pesticides[lmr_pest[lmr_pest[\"typeEN\"] == \"fungicide\" ][\"importName\"]]\n",
    "# df_insecticide = df_pesticides[lmr_pest[lmr_pest[\"typeEN\"] == \"insecticide\" ][\"importName\"]]\n",
    "# df_herbicide = df_pesticides[lmr_pest[lmr_pest[\"typeEN\"] == \"herbicide\" ][\"importName\"]]\n",
    "# df_other_pest = df_pesticides[lmr_pest[(lmr_pest[\"typeEN\"] != \"fungicide\" ) & (lmr_pest[\"typeEN\"] != \"insecticide\" ) & (lmr_pest[\"typeEN\"] != \"herbicide\" ) ][\"importName\"]]\n",
    "\n",
    "# df_fungicide"
   ]
  },
  {
   "cell_type": "code",
   "execution_count": 9,
   "metadata": {
    "ExecuteTime": {
     "end_time": "2021-02-10T13:18:22.749689Z",
     "start_time": "2021-02-10T13:18:22.682671Z"
    },
    "scrolled": false
   },
   "outputs": [
    {
     "data": {
      "text/html": [
       "<div>\n",
       "<style scoped>\n",
       "    .dataframe tbody tr th:only-of-type {\n",
       "        vertical-align: middle;\n",
       "    }\n",
       "\n",
       "    .dataframe tbody tr th {\n",
       "        vertical-align: top;\n",
       "    }\n",
       "\n",
       "    .dataframe thead th {\n",
       "        text-align: right;\n",
       "    }\n",
       "</style>\n",
       "<table border=\"1\" class=\"dataframe\">\n",
       "  <thead>\n",
       "    <tr style=\"text-align: right;\">\n",
       "      <th></th>\n",
       "      <th>importName</th>\n",
       "      <th>name</th>\n",
       "      <th>statusEN</th>\n",
       "      <th>LMR</th>\n",
       "      <th>familyEN</th>\n",
       "      <th>typeEN</th>\n",
       "    </tr>\n",
       "  </thead>\n",
       "  <tbody>\n",
       "    <tr>\n",
       "      <th>0</th>\n",
       "      <td>Aclonifen</td>\n",
       "      <td>aclonifen</td>\n",
       "      <td>authorized</td>\n",
       "      <td>0.05</td>\n",
       "      <td>diphenyl ether</td>\n",
       "      <td>herbicide</td>\n",
       "    </tr>\n",
       "    <tr>\n",
       "      <th>1</th>\n",
       "      <td>Aldrin</td>\n",
       "      <td>aldrin</td>\n",
       "      <td>prohibited</td>\n",
       "      <td>0.01</td>\n",
       "      <td>organochlorine</td>\n",
       "      <td>insecticide</td>\n",
       "    </tr>\n",
       "    <tr>\n",
       "      <th>2</th>\n",
       "      <td>Ametoctradin</td>\n",
       "      <td>ametoctradin</td>\n",
       "      <td>authorized</td>\n",
       "      <td>0.05</td>\n",
       "      <td>triazolopyrimidine</td>\n",
       "      <td>fungicide</td>\n",
       "    </tr>\n",
       "    <tr>\n",
       "      <th>3</th>\n",
       "      <td>Anthraquinone</td>\n",
       "      <td>anthraquinone</td>\n",
       "      <td>prohibited</td>\n",
       "      <td>0.02</td>\n",
       "      <td>polycyclic aromatic hydrocarbon</td>\n",
       "      <td>bird repellant</td>\n",
       "    </tr>\n",
       "    <tr>\n",
       "      <th>4</th>\n",
       "      <td>Azoxystrobin</td>\n",
       "      <td>azoxystrobin</td>\n",
       "      <td>authorized</td>\n",
       "      <td>0.05</td>\n",
       "      <td>strobilurin</td>\n",
       "      <td>fungicide</td>\n",
       "    </tr>\n",
       "  </tbody>\n",
       "</table>\n",
       "</div>"
      ],
      "text/plain": [
       "      importName           name    statusEN   LMR  \\\n",
       "0      Aclonifen      aclonifen  authorized  0.05   \n",
       "1         Aldrin         aldrin  prohibited  0.01   \n",
       "2   Ametoctradin   ametoctradin  authorized  0.05   \n",
       "3  Anthraquinone  anthraquinone  prohibited  0.02   \n",
       "4   Azoxystrobin   azoxystrobin  authorized  0.05   \n",
       "\n",
       "                          familyEN          typeEN  \n",
       "0                   diphenyl ether       herbicide  \n",
       "1                   organochlorine     insecticide  \n",
       "2               triazolopyrimidine       fungicide  \n",
       "3  polycyclic aromatic hydrocarbon  bird repellant  \n",
       "4                      strobilurin       fungicide  "
      ]
     },
     "execution_count": 9,
     "metadata": {},
     "output_type": "execute_result"
    }
   ],
   "source": [
    "\n",
    "df_pesticides.head()"
   ]
  },
  {
   "cell_type": "code",
   "execution_count": 10,
   "metadata": {
    "ExecuteTime": {
     "end_time": "2021-02-10T13:18:22.782340Z",
     "start_time": "2021-02-10T13:18:22.766468Z"
    }
   },
   "outputs": [
    {
     "data": {
      "text/plain": [
       "0    0.05\n",
       "Name: LMR, dtype: float64"
      ]
     },
     "execution_count": 10,
     "metadata": {},
     "output_type": "execute_result"
    }
   ],
   "source": [
    "LMR = lmr_pest[lmr_pest[\"importName\"] == \"Aclonifen\"][\"LMR\"]\n",
    "LMR"
   ]
  },
  {
   "cell_type": "code",
   "execution_count": 11,
   "metadata": {
    "ExecuteTime": {
     "end_time": "2021-02-10T13:18:22.827165Z",
     "start_time": "2021-02-10T13:18:22.789737Z"
    }
   },
   "outputs": [],
   "source": [
    "# pesticides[\"REF....SUBSTANCE\"] = pesticides[\"REF....SUBSTANCE\"]\n",
    "# pesticides[\"PERIOD\"] = pesticides[\"PERIOD\"]\n",
    "\n",
    "pesticides[\"Fungicide\"] = 0\n",
    "pesticides[\"Insecticide\"] = 0\n",
    "pesticides[\"Herbicide\"] = 0\n",
    "pesticides[\"Other_pesticides\"] = 0\n",
    "\n",
    "pesticides[\"LMR_Fungicide\"] = 0\n",
    "pesticides[\"LMR_Insecticide\"] = 0\n",
    "pesticides[\"LMR_Herbicide\"] = 0\n",
    "pesticides[\"LMR_Other_pesticides\"] = 0\n",
    "\n",
    "# pesticides[\"pass_Fungicide\"] = False\n",
    "# pesticides[\"pass_Insecticide\"] = False\n",
    "# pesticides[\"pass_Herbicide\"] = False\n",
    "# pesticides[\"pass_Other_pesticides\"] = False\n",
    "\n"
   ]
  },
  {
   "cell_type": "code",
   "execution_count": 12,
   "metadata": {
    "ExecuteTime": {
     "end_time": "2021-02-10T13:18:22.840399Z",
     "start_time": "2021-02-10T13:18:22.830797Z"
    }
   },
   "outputs": [],
   "source": [
    "# pesticides[\"Fungicide\"] = pesticides[\"Fungicide\"].apply()\n",
    "\n"
   ]
  },
  {
   "cell_type": "code",
   "execution_count": 42,
   "metadata": {
    "ExecuteTime": {
     "end_time": "2021-02-10T13:36:52.461892Z",
     "start_time": "2021-02-10T13:36:51.858828Z"
    }
   },
   "outputs": [
    {
     "name": "stdout",
     "output_type": "stream",
     "text": [
      "growth regulator\n",
      "<class 'numpy.float64'>\n",
      "True\n",
      "herbicide\n",
      "<class 'numpy.float64'>\n",
      "False\n",
      "fungicide\n",
      "<class 'numpy.float64'>\n",
      "False\n",
      "bird repellant\n",
      "<class 'numpy.float64'>\n",
      "False\n",
      "fungicide\n",
      "<class 'numpy.float64'>\n",
      "False\n",
      "fungicide\n",
      "<class 'numpy.float64'>\n",
      "False\n",
      "fungicide\n",
      "<class 'numpy.float64'>\n",
      "False\n",
      "fungicide\n",
      "<class 'numpy.float64'>\n",
      "False\n",
      "fungicide\n",
      "<class 'numpy.float64'>\n",
      "False\n",
      "fungicide\n",
      "<class 'numpy.float64'>\n",
      "False\n",
      "herbicide\n",
      "<class 'numpy.float64'>\n",
      "False\n",
      "insecticide\n",
      "<class 'numpy.float64'>\n",
      "False\n",
      "herbicide\n",
      "<class 'numpy.float64'>\n",
      "False\n",
      "fungicide\n",
      "<class 'numpy.float64'>\n",
      "False\n",
      "fungicide\n",
      "<class 'numpy.float64'>\n",
      "False\n",
      "fungicide\n",
      "<class 'numpy.float64'>\n",
      "False\n",
      "fungicide\n",
      "<class 'numpy.float64'>\n",
      "False\n",
      "fungicide\n",
      "<class 'numpy.float64'>\n",
      "False\n",
      "fungicide\n",
      "<class 'numpy.float64'>\n",
      "False\n",
      "fungicide\n",
      "<class 'numpy.float64'>\n",
      "False\n",
      "herbicide\n",
      "<class 'numpy.float64'>\n",
      "False\n",
      "insecticide\n",
      "<class 'numpy.float64'>\n",
      "False\n",
      "insecticide\n",
      "<class 'numpy.float64'>\n",
      "True\n",
      "fungicide\n",
      "<class 'numpy.float64'>\n",
      "False\n",
      "insecticide\n",
      "<class 'numpy.float64'>\n",
      "False\n",
      "herbicide\n",
      "<class 'numpy.float64'>\n",
      "False\n",
      "fungicide\n",
      "<class 'numpy.float64'>\n",
      "False\n",
      "fungicide\n",
      "<class 'numpy.float64'>\n",
      "False\n",
      "fungicide\n",
      "<class 'numpy.float64'>\n",
      "False\n",
      "fungicide\n",
      "<class 'numpy.float64'>\n",
      "False\n",
      "insecticide\n",
      "<class 'numpy.float64'>\n",
      "False\n",
      "fungicide\n",
      "<class 'numpy.float64'>\n",
      "False\n",
      "fungicide\n",
      "<class 'numpy.float64'>\n",
      "False\n",
      "insecticide\n",
      "<class 'numpy.float64'>\n",
      "False\n",
      "fungicide\n",
      "<class 'numpy.float64'>\n",
      "False\n",
      "fungicide\n",
      "<class 'numpy.float64'>\n",
      "False\n",
      "herbicide\n",
      "<class 'numpy.float64'>\n",
      "True\n",
      "insecticide, molluscicide and bird repellent\n",
      "<class 'numpy.float64'>\n",
      "False\n",
      "insecticide\n",
      "<class 'numpy.float64'>\n",
      "False\n",
      "herbicide\n",
      "<class 'numpy.float64'>\n",
      "False\n",
      "herbicide\n",
      "<class 'numpy.float64'>\n",
      "False\n",
      "fungicide\n",
      "<class 'numpy.float64'>\n",
      "False\n",
      "fungicide\n",
      "<class 'numpy.float64'>\n",
      "False\n",
      "herbicide\n",
      "<class 'numpy.float64'>\n",
      "False\n",
      "herbicide\n",
      "<class 'numpy.float64'>\n",
      "False\n",
      "insecticide\n",
      "<class 'numpy.float64'>\n",
      "False\n",
      "insecticide\n",
      "<class 'numpy.float64'>\n",
      "False\n",
      "fungicide\n",
      "<class 'numpy.float64'>\n",
      "False\n",
      "herbicide\n",
      "<class 'numpy.float64'>\n",
      "False\n",
      "herbicide\n",
      "<class 'numpy.float64'>\n",
      "False\n",
      "fungicide\n",
      "<class 'numpy.float64'>\n",
      "False\n",
      "fungicide\n",
      "<class 'numpy.float64'>\n",
      "False\n",
      "fungicide\n",
      "<class 'numpy.float64'>\n",
      "False\n",
      "fungicide\n",
      "<class 'numpy.float64'>\n",
      "False\n",
      "insecticide\n",
      "<class 'numpy.float64'>\n",
      "False\n",
      "insecticide\n",
      "<class 'numpy.float64'>\n",
      "False\n",
      "fungicide\n",
      "<class 'numpy.float64'>\n",
      "False\n",
      "insecticide\n",
      "<class 'numpy.float64'>\n",
      "False\n",
      "fungicide and growth regulator\n",
      "<class 'numpy.float64'>\n",
      "False\n",
      "insecticide\n",
      "<class 'numpy.float64'>\n",
      "False\n",
      "fungicide\n",
      "<class 'numpy.float64'>\n",
      "False\n",
      "fungicide\n",
      "<class 'numpy.float64'>\n",
      "False\n",
      "insecticide\n",
      "<class 'numpy.float64'>\n",
      "False\n",
      "fungicide\n",
      "<class 'numpy.float64'>\n",
      "False\n",
      "herbicide\n",
      "<class 'numpy.float64'>\n",
      "True\n",
      "fungicide\n",
      "<class 'numpy.float64'>\n",
      "False\n",
      "fungicide\n",
      "<class 'numpy.float64'>\n",
      "False\n",
      "herbicide\n",
      "<class 'numpy.float64'>\n",
      "False\n",
      "fungicide\n",
      "<class 'numpy.float64'>\n",
      "False\n",
      "insecticide\n",
      "<class 'numpy.float64'>\n",
      "False\n",
      "insecticide\n",
      "<class 'numpy.float64'>\n",
      "False\n",
      "fungicide\n",
      "<class 'numpy.float64'>\n",
      "False\n",
      "growth regulator, fungicide and insecticide\n",
      "<class 'numpy.float64'>\n",
      "False\n",
      "fungicide\n",
      "<class 'numpy.float64'>\n",
      "False\n",
      "fungicide\n",
      "<class 'numpy.float64'>\n",
      "False\n",
      "herbicide\n",
      "<class 'numpy.float64'>\n",
      "False\n",
      "insecticide\n",
      "<class 'numpy.float64'>\n",
      "True\n",
      "herbicide\n",
      "<class 'numpy.float64'>\n",
      "False\n",
      "herbicide\n",
      "<class 'numpy.float64'>\n",
      "False\n",
      "herbicide\n",
      "<class 'numpy.float64'>\n",
      "False\n",
      "insecticide\n",
      "<class 'numpy.float64'>\n",
      "True\n",
      "insecticide\n",
      "<class 'numpy.float64'>\n",
      "False\n",
      "herbicide\n",
      "<class 'numpy.float64'>\n",
      "False\n",
      "fungicide\n",
      "<class 'numpy.float64'>\n",
      "False\n",
      "fungicide\n",
      "<class 'numpy.float64'>\n",
      "False\n",
      "fungicide\n",
      "<class 'numpy.float64'>\n",
      "False\n",
      "fungicide\n",
      "<class 'numpy.float64'>\n",
      "False\n",
      "herbicide\n",
      "<class 'numpy.float64'>\n",
      "False\n",
      "herbicide\n",
      "<class 'numpy.float64'>\n",
      "False\n",
      "fungicide\n",
      "<class 'numpy.float64'>\n",
      "False\n",
      "fungicide\n",
      "<class 'numpy.float64'>\n",
      "False\n",
      "fungicide\n",
      "<class 'numpy.float64'>\n",
      "False\n",
      "insecticide\n",
      "<class 'numpy.float64'>\n",
      "False\n",
      "fungicide\n",
      "<class 'numpy.float64'>\n",
      "False\n",
      "fungicide\n",
      "<class 'numpy.float64'>\n",
      "False\n",
      "insecticide\n",
      "<class 'numpy.float64'>\n",
      "False\n",
      "fungicide\n",
      "<class 'numpy.float64'>\n",
      "False\n",
      "insecticide\n",
      "<class 'numpy.float64'>\n",
      "True\n",
      "fungicide\n",
      "<class 'numpy.float64'>\n",
      "False\n",
      "insecticide\n",
      "<class 'numpy.float64'>\n",
      "False\n",
      "herbicide\n",
      "<class 'numpy.float64'>\n",
      "False\n"
     ]
    },
    {
     "ename": "IndexError",
     "evalue": "single positional indexer is out-of-bounds",
     "output_type": "error",
     "traceback": [
      "\u001b[0;31m---------------------------------------------------------------------------\u001b[0m",
      "\u001b[0;31mIndexError\u001b[0m                                Traceback (most recent call last)",
      "\u001b[0;32m<ipython-input-42-a779292761e8>\u001b[0m in \u001b[0;36m<module>\u001b[0;34m\u001b[0m\n\u001b[1;32m      4\u001b[0m         \u001b[0;32mpass\u001b[0m\u001b[0;34m\u001b[0m\u001b[0;34m\u001b[0m\u001b[0m\n\u001b[1;32m      5\u001b[0m     \u001b[0;32melse\u001b[0m\u001b[0;34m:\u001b[0m\u001b[0;34m\u001b[0m\u001b[0;34m\u001b[0m\u001b[0m\n\u001b[0;32m----> 6\u001b[0;31m         \u001b[0mcatgory\u001b[0m \u001b[0;34m=\u001b[0m \u001b[0;34m(\u001b[0m\u001b[0mlmr_pest\u001b[0m\u001b[0;34m[\u001b[0m\u001b[0mlmr_pest\u001b[0m\u001b[0;34m[\u001b[0m\u001b[0;34m\"importName\"\u001b[0m\u001b[0;34m]\u001b[0m \u001b[0;34m==\u001b[0m \u001b[0mcol\u001b[0m\u001b[0;34m]\u001b[0m\u001b[0;34m[\u001b[0m\u001b[0;34m\"typeEN\"\u001b[0m\u001b[0;34m]\u001b[0m\u001b[0;34m)\u001b[0m\u001b[0;34m.\u001b[0m\u001b[0miloc\u001b[0m\u001b[0;34m[\u001b[0m\u001b[0;36m0\u001b[0m\u001b[0;34m]\u001b[0m\u001b[0;34m\u001b[0m\u001b[0;34m\u001b[0m\u001b[0m\n\u001b[0m\u001b[1;32m      7\u001b[0m         \u001b[0mLMR\u001b[0m \u001b[0;34m=\u001b[0m \u001b[0;34m(\u001b[0m\u001b[0mlmr_pest\u001b[0m\u001b[0;34m[\u001b[0m\u001b[0mlmr_pest\u001b[0m\u001b[0;34m[\u001b[0m\u001b[0;34m\"importName\"\u001b[0m\u001b[0;34m]\u001b[0m \u001b[0;34m==\u001b[0m \u001b[0mcol\u001b[0m\u001b[0;34m]\u001b[0m\u001b[0;34m[\u001b[0m\u001b[0;34m\"LMR\"\u001b[0m\u001b[0;34m]\u001b[0m\u001b[0;34m)\u001b[0m\u001b[0;34m.\u001b[0m\u001b[0miloc\u001b[0m\u001b[0;34m[\u001b[0m\u001b[0;36m0\u001b[0m\u001b[0;34m]\u001b[0m\u001b[0;34m\u001b[0m\u001b[0;34m\u001b[0m\u001b[0m\n\u001b[1;32m      8\u001b[0m \u001b[0;34m\u001b[0m\u001b[0m\n",
      "\u001b[0;32m~/opt/anaconda3/lib/python3.8/site-packages/pandas/core/indexing.py\u001b[0m in \u001b[0;36m__getitem__\u001b[0;34m(self, key)\u001b[0m\n\u001b[1;32m    892\u001b[0m \u001b[0;34m\u001b[0m\u001b[0m\n\u001b[1;32m    893\u001b[0m             \u001b[0mmaybe_callable\u001b[0m \u001b[0;34m=\u001b[0m \u001b[0mcom\u001b[0m\u001b[0;34m.\u001b[0m\u001b[0mapply_if_callable\u001b[0m\u001b[0;34m(\u001b[0m\u001b[0mkey\u001b[0m\u001b[0;34m,\u001b[0m \u001b[0mself\u001b[0m\u001b[0;34m.\u001b[0m\u001b[0mobj\u001b[0m\u001b[0;34m)\u001b[0m\u001b[0;34m\u001b[0m\u001b[0;34m\u001b[0m\u001b[0m\n\u001b[0;32m--> 894\u001b[0;31m             \u001b[0;32mreturn\u001b[0m \u001b[0mself\u001b[0m\u001b[0;34m.\u001b[0m\u001b[0m_getitem_axis\u001b[0m\u001b[0;34m(\u001b[0m\u001b[0mmaybe_callable\u001b[0m\u001b[0;34m,\u001b[0m \u001b[0maxis\u001b[0m\u001b[0;34m=\u001b[0m\u001b[0maxis\u001b[0m\u001b[0;34m)\u001b[0m\u001b[0;34m\u001b[0m\u001b[0;34m\u001b[0m\u001b[0m\n\u001b[0m\u001b[1;32m    895\u001b[0m \u001b[0;34m\u001b[0m\u001b[0m\n\u001b[1;32m    896\u001b[0m     \u001b[0;32mdef\u001b[0m \u001b[0m_is_scalar_access\u001b[0m\u001b[0;34m(\u001b[0m\u001b[0mself\u001b[0m\u001b[0;34m,\u001b[0m \u001b[0mkey\u001b[0m\u001b[0;34m:\u001b[0m \u001b[0mTuple\u001b[0m\u001b[0;34m)\u001b[0m\u001b[0;34m:\u001b[0m\u001b[0;34m\u001b[0m\u001b[0;34m\u001b[0m\u001b[0m\n",
      "\u001b[0;32m~/opt/anaconda3/lib/python3.8/site-packages/pandas/core/indexing.py\u001b[0m in \u001b[0;36m_getitem_axis\u001b[0;34m(self, key, axis)\u001b[0m\n\u001b[1;32m   1498\u001b[0m \u001b[0;34m\u001b[0m\u001b[0m\n\u001b[1;32m   1499\u001b[0m             \u001b[0;31m# validate the location\u001b[0m\u001b[0;34m\u001b[0m\u001b[0;34m\u001b[0m\u001b[0;34m\u001b[0m\u001b[0m\n\u001b[0;32m-> 1500\u001b[0;31m             \u001b[0mself\u001b[0m\u001b[0;34m.\u001b[0m\u001b[0m_validate_integer\u001b[0m\u001b[0;34m(\u001b[0m\u001b[0mkey\u001b[0m\u001b[0;34m,\u001b[0m \u001b[0maxis\u001b[0m\u001b[0;34m)\u001b[0m\u001b[0;34m\u001b[0m\u001b[0;34m\u001b[0m\u001b[0m\n\u001b[0m\u001b[1;32m   1501\u001b[0m \u001b[0;34m\u001b[0m\u001b[0m\n\u001b[1;32m   1502\u001b[0m             \u001b[0;32mreturn\u001b[0m \u001b[0mself\u001b[0m\u001b[0;34m.\u001b[0m\u001b[0mobj\u001b[0m\u001b[0;34m.\u001b[0m\u001b[0m_ixs\u001b[0m\u001b[0;34m(\u001b[0m\u001b[0mkey\u001b[0m\u001b[0;34m,\u001b[0m \u001b[0maxis\u001b[0m\u001b[0;34m=\u001b[0m\u001b[0maxis\u001b[0m\u001b[0;34m)\u001b[0m\u001b[0;34m\u001b[0m\u001b[0;34m\u001b[0m\u001b[0m\n",
      "\u001b[0;32m~/opt/anaconda3/lib/python3.8/site-packages/pandas/core/indexing.py\u001b[0m in \u001b[0;36m_validate_integer\u001b[0;34m(self, key, axis)\u001b[0m\n\u001b[1;32m   1441\u001b[0m         \u001b[0mlen_axis\u001b[0m \u001b[0;34m=\u001b[0m \u001b[0mlen\u001b[0m\u001b[0;34m(\u001b[0m\u001b[0mself\u001b[0m\u001b[0;34m.\u001b[0m\u001b[0mobj\u001b[0m\u001b[0;34m.\u001b[0m\u001b[0m_get_axis\u001b[0m\u001b[0;34m(\u001b[0m\u001b[0maxis\u001b[0m\u001b[0;34m)\u001b[0m\u001b[0;34m)\u001b[0m\u001b[0;34m\u001b[0m\u001b[0;34m\u001b[0m\u001b[0m\n\u001b[1;32m   1442\u001b[0m         \u001b[0;32mif\u001b[0m \u001b[0mkey\u001b[0m \u001b[0;34m>=\u001b[0m \u001b[0mlen_axis\u001b[0m \u001b[0;32mor\u001b[0m \u001b[0mkey\u001b[0m \u001b[0;34m<\u001b[0m \u001b[0;34m-\u001b[0m\u001b[0mlen_axis\u001b[0m\u001b[0;34m:\u001b[0m\u001b[0;34m\u001b[0m\u001b[0;34m\u001b[0m\u001b[0m\n\u001b[0;32m-> 1443\u001b[0;31m             \u001b[0;32mraise\u001b[0m \u001b[0mIndexError\u001b[0m\u001b[0;34m(\u001b[0m\u001b[0;34m\"single positional indexer is out-of-bounds\"\u001b[0m\u001b[0;34m)\u001b[0m\u001b[0;34m\u001b[0m\u001b[0;34m\u001b[0m\u001b[0m\n\u001b[0m\u001b[1;32m   1444\u001b[0m \u001b[0;34m\u001b[0m\u001b[0m\n\u001b[1;32m   1445\u001b[0m     \u001b[0;31m# -------------------------------------------------------------------\u001b[0m\u001b[0;34m\u001b[0m\u001b[0;34m\u001b[0m\u001b[0;34m\u001b[0m\u001b[0m\n",
      "\u001b[0;31mIndexError\u001b[0m: single positional indexer is out-of-bounds"
     ]
    }
   ],
   "source": [
    "pesticides.fillna(0, inplace=True)\n",
    "for col in pesticides.columns:\n",
    "    if col in [\"REF....SUBSTANCE\", \"PERIOD\", \"Fungicide\", \"Insecticide\", \"Herbicide\", \"Other_pesticides\", \"LMR_Fungicide\", \"LMR_Insecticide\", \"LMR_Herbicide\", \"LMR_Other_pesticides\"]:\n",
    "        pass\n",
    "    else:\n",
    "        catgory = (lmr_pest[lmr_pest[\"importName\"] == col][\"typeEN\"]).iloc[0]\n",
    "        LMR = (lmr_pest[lmr_pest[\"importName\"] == col][\"LMR\"]).iloc[0]\n",
    "        \n",
    "        if np.isnan(LMR):\n",
    "            LMR = 0\n",
    "            \n",
    "        filter_pest = pesticides[col] > 0\n",
    "        filter_pest_LMR = pesticides[col] > LMR\n",
    "        \n",
    "\n",
    "        if catgory in [\"herbicide\"]:\n",
    "            pesticides.loc[filter_pest, \"Herbicide\"] += 1\n",
    "            pesticides.loc[filter_pest_LMR, \"LMR_Herbicide\"] += 1\n",
    "            \n",
    "        if catgory in [\"insecticide\",'growth regulator, fungicide and insecticide','insecticide, molluscicide and bird repellent']:\n",
    "            pesticides.loc[filter_pest, \"Insecticide\"] += 1\n",
    "            pesticides.loc[filter_pest_LMR, \"LMR_Insecticide\"] += 1\n",
    "            \n",
    "        if catgory in [\"fungicide\",'growth regulator, fungicide and insecticide','fungicide and growth regulator']:\n",
    "            pesticides.loc[filter_pest, \"Fungicide\"] += 1\n",
    "            pesticides.loc[filter_pest_LMR, \"LMR_Fungicide\"] += 1\n",
    "            \n",
    "        if catgory in [\"bird repellant\",'growth regulator, fungicide and insecticide', 'insecticide, molluscicide and bird repellent', \"acaricide\", 'fungicide and growth regulator', 'growth regulator', np.nan ]:\n",
    "            pesticides.loc[filter_pest, \"Other_pesticides\"] += 1\n",
    "            pesticides.loc[filter_pest_LMR, \"LMR_Other_pesticides\"] += 1\n",
    "        "
   ]
  },
  {
   "cell_type": "code",
   "execution_count": 43,
   "metadata": {
    "ExecuteTime": {
     "end_time": "2021-02-10T13:37:22.962342Z",
     "start_time": "2021-02-10T13:37:22.909687Z"
    }
   },
   "outputs": [
    {
     "data": {
      "text/html": [
       "<div>\n",
       "<style scoped>\n",
       "    .dataframe tbody tr th:only-of-type {\n",
       "        vertical-align: middle;\n",
       "    }\n",
       "\n",
       "    .dataframe tbody tr th {\n",
       "        vertical-align: top;\n",
       "    }\n",
       "\n",
       "    .dataframe thead th {\n",
       "        text-align: right;\n",
       "    }\n",
       "</style>\n",
       "<table border=\"1\" class=\"dataframe\">\n",
       "  <thead>\n",
       "    <tr style=\"text-align: right;\">\n",
       "      <th></th>\n",
       "      <th>REF....SUBSTANCE</th>\n",
       "      <th>PERIOD</th>\n",
       "      <th>X6.benzylaminopurine</th>\n",
       "      <th>Aclonifen</th>\n",
       "      <th>Ametoctradin</th>\n",
       "      <th>Anthraquinone</th>\n",
       "      <th>Azoxystrobin</th>\n",
       "      <th>Benalaxyl</th>\n",
       "      <th>Boscalid</th>\n",
       "      <th>Captan</th>\n",
       "      <th>...</th>\n",
       "      <th>Tetradifon</th>\n",
       "      <th>Flufenacet</th>\n",
       "      <th>Fungicide</th>\n",
       "      <th>Insecticide</th>\n",
       "      <th>Herbicide</th>\n",
       "      <th>Other_pesticides</th>\n",
       "      <th>LMR_Fungicide</th>\n",
       "      <th>LMR_Insecticide</th>\n",
       "      <th>LMR_Herbicide</th>\n",
       "      <th>LMR_Other_pesticides</th>\n",
       "    </tr>\n",
       "  </thead>\n",
       "  <tbody>\n",
       "    <tr>\n",
       "      <th>0</th>\n",
       "      <td>B0012</td>\n",
       "      <td>2020/P1</td>\n",
       "      <td>0.0</td>\n",
       "      <td>0.0048</td>\n",
       "      <td>0.0</td>\n",
       "      <td>0.0</td>\n",
       "      <td>0.0</td>\n",
       "      <td>0.0</td>\n",
       "      <td>0.0</td>\n",
       "      <td>0.270</td>\n",
       "      <td>...</td>\n",
       "      <td>0.0</td>\n",
       "      <td>0.0</td>\n",
       "      <td>3</td>\n",
       "      <td>0</td>\n",
       "      <td>3</td>\n",
       "      <td>0</td>\n",
       "      <td>3</td>\n",
       "      <td>0</td>\n",
       "      <td>0</td>\n",
       "      <td>0</td>\n",
       "    </tr>\n",
       "    <tr>\n",
       "      <th>1</th>\n",
       "      <td>B0017</td>\n",
       "      <td>2020/P1</td>\n",
       "      <td>0.0</td>\n",
       "      <td>0.0000</td>\n",
       "      <td>0.0</td>\n",
       "      <td>0.0</td>\n",
       "      <td>0.0</td>\n",
       "      <td>0.0</td>\n",
       "      <td>0.0</td>\n",
       "      <td>0.016</td>\n",
       "      <td>...</td>\n",
       "      <td>0.0</td>\n",
       "      <td>0.0</td>\n",
       "      <td>3</td>\n",
       "      <td>0</td>\n",
       "      <td>0</td>\n",
       "      <td>0</td>\n",
       "      <td>0</td>\n",
       "      <td>0</td>\n",
       "      <td>0</td>\n",
       "      <td>0</td>\n",
       "    </tr>\n",
       "    <tr>\n",
       "      <th>2</th>\n",
       "      <td>B0019</td>\n",
       "      <td>2020/P1</td>\n",
       "      <td>0.0</td>\n",
       "      <td>0.0000</td>\n",
       "      <td>0.0</td>\n",
       "      <td>0.0</td>\n",
       "      <td>0.0</td>\n",
       "      <td>0.0</td>\n",
       "      <td>0.0</td>\n",
       "      <td>0.011</td>\n",
       "      <td>...</td>\n",
       "      <td>0.0</td>\n",
       "      <td>0.0</td>\n",
       "      <td>3</td>\n",
       "      <td>0</td>\n",
       "      <td>0</td>\n",
       "      <td>0</td>\n",
       "      <td>0</td>\n",
       "      <td>0</td>\n",
       "      <td>0</td>\n",
       "      <td>0</td>\n",
       "    </tr>\n",
       "    <tr>\n",
       "      <th>3</th>\n",
       "      <td>B0021</td>\n",
       "      <td>2020/P1</td>\n",
       "      <td>0.0</td>\n",
       "      <td>0.0000</td>\n",
       "      <td>0.0</td>\n",
       "      <td>0.0</td>\n",
       "      <td>0.0</td>\n",
       "      <td>0.0</td>\n",
       "      <td>0.0</td>\n",
       "      <td>0.010</td>\n",
       "      <td>...</td>\n",
       "      <td>0.0</td>\n",
       "      <td>0.0</td>\n",
       "      <td>3</td>\n",
       "      <td>0</td>\n",
       "      <td>0</td>\n",
       "      <td>0</td>\n",
       "      <td>0</td>\n",
       "      <td>0</td>\n",
       "      <td>0</td>\n",
       "      <td>0</td>\n",
       "    </tr>\n",
       "    <tr>\n",
       "      <th>4</th>\n",
       "      <td>B0023</td>\n",
       "      <td>2020/P1</td>\n",
       "      <td>0.0</td>\n",
       "      <td>0.0000</td>\n",
       "      <td>0.0</td>\n",
       "      <td>0.0</td>\n",
       "      <td>0.0</td>\n",
       "      <td>0.0</td>\n",
       "      <td>0.0</td>\n",
       "      <td>0.011</td>\n",
       "      <td>...</td>\n",
       "      <td>0.0</td>\n",
       "      <td>0.0</td>\n",
       "      <td>3</td>\n",
       "      <td>0</td>\n",
       "      <td>0</td>\n",
       "      <td>0</td>\n",
       "      <td>0</td>\n",
       "      <td>0</td>\n",
       "      <td>0</td>\n",
       "      <td>0</td>\n",
       "    </tr>\n",
       "  </tbody>\n",
       "</table>\n",
       "<p>5 rows × 125 columns</p>\n",
       "</div>"
      ],
      "text/plain": [
       "  REF....SUBSTANCE   PERIOD  X6.benzylaminopurine  Aclonifen  Ametoctradin  \\\n",
       "0            B0012  2020/P1                   0.0     0.0048           0.0   \n",
       "1            B0017  2020/P1                   0.0     0.0000           0.0   \n",
       "2            B0019  2020/P1                   0.0     0.0000           0.0   \n",
       "3            B0021  2020/P1                   0.0     0.0000           0.0   \n",
       "4            B0023  2020/P1                   0.0     0.0000           0.0   \n",
       "\n",
       "   Anthraquinone  Azoxystrobin  Benalaxyl  Boscalid  Captan  ...  Tetradifon  \\\n",
       "0            0.0           0.0        0.0       0.0   0.270  ...         0.0   \n",
       "1            0.0           0.0        0.0       0.0   0.016  ...         0.0   \n",
       "2            0.0           0.0        0.0       0.0   0.011  ...         0.0   \n",
       "3            0.0           0.0        0.0       0.0   0.010  ...         0.0   \n",
       "4            0.0           0.0        0.0       0.0   0.011  ...         0.0   \n",
       "\n",
       "   Flufenacet  Fungicide  Insecticide  Herbicide  Other_pesticides  \\\n",
       "0         0.0          3            0          3                 0   \n",
       "1         0.0          3            0          0                 0   \n",
       "2         0.0          3            0          0                 0   \n",
       "3         0.0          3            0          0                 0   \n",
       "4         0.0          3            0          0                 0   \n",
       "\n",
       "   LMR_Fungicide  LMR_Insecticide  LMR_Herbicide  LMR_Other_pesticides  \n",
       "0              3                0              0                     0  \n",
       "1              0                0              0                     0  \n",
       "2              0                0              0                     0  \n",
       "3              0                0              0                     0  \n",
       "4              0                0              0                     0  \n",
       "\n",
       "[5 rows x 125 columns]"
      ]
     },
     "execution_count": 43,
     "metadata": {},
     "output_type": "execute_result"
    }
   ],
   "source": [
    "pesticides.head()"
   ]
  },
  {
   "cell_type": "code",
   "execution_count": null,
   "metadata": {
    "ExecuteTime": {
     "end_time": "2021-02-10T13:18:23.270220Z",
     "start_time": "2021-02-10T13:18:19.182Z"
    }
   },
   "outputs": [],
   "source": [
    "#array(['herbicide', 'insecticide', 'fungicide', 'bird repellant',\n",
    "#        'growth regulator, fungicide and insecticide',\n",
    "#        'insecticide, molluscicide and bird repellent', 'acaricide',\n",
    "#        'fungicide and growth regulator', 'growth regulator', nan],\n",
    "#       dtype=object)"
   ]
  },
  {
   "cell_type": "code",
   "execution_count": null,
   "metadata": {
    "ExecuteTime": {
     "end_time": "2021-02-10T13:18:23.280198Z",
     "start_time": "2021-02-10T13:18:19.184Z"
    }
   },
   "outputs": [],
   "source": [
    "df_pesticides = df_pesticides.sort_values([\"REF....SUBSTANCE\", \"PERIOD\"])"
   ]
  },
  {
   "cell_type": "code",
   "execution_count": null,
   "metadata": {
    "ExecuteTime": {
     "end_time": "2021-02-10T13:18:23.295394Z",
     "start_time": "2021-02-10T13:18:19.186Z"
    },
    "scrolled": true
   },
   "outputs": [],
   "source": [
    "df_pesticides[df_pesticides[\"REF....SUBSTANCE\"] == \"B0017\"].sum()"
   ]
  },
  {
   "cell_type": "code",
   "execution_count": null,
   "metadata": {},
   "outputs": [],
   "source": []
  },
  {
   "cell_type": "code",
   "execution_count": null,
   "metadata": {
    "ExecuteTime": {
     "end_time": "2021-02-10T13:18:23.309487Z",
     "start_time": "2021-02-10T13:18:19.190Z"
    }
   },
   "outputs": [],
   "source": [
    "plot_2017 = plt.subplots(figsize=(18,6))\n",
    "plt.bar(df_pesticides[\"REF....SUBSTANCE\"],df_pesticides[\"PERIOD\"])\n",
    "plt.xticks(rotation=90)\n",
    "plt.show()"
   ]
  },
  {
   "cell_type": "code",
   "execution_count": null,
   "metadata": {
    "ExecuteTime": {
     "end_time": "2021-02-10T13:18:23.312475Z",
     "start_time": "2021-02-10T13:18:19.192Z"
    },
    "scrolled": true
   },
   "outputs": [],
   "source": [
    "plot = plt.subplots(figsize=(18,6))\n",
    "plt.scatter(df_pesticides[\"REF....SUBSTANCE\"],df_pesticides[\"PERIOD\"])\n",
    "plt.xticks(rotation=90)\n",
    "plt.show()"
   ]
  },
  {
   "cell_type": "code",
   "execution_count": null,
   "metadata": {
    "ExecuteTime": {
     "end_time": "2021-02-10T13:18:23.315461Z",
     "start_time": "2021-02-10T13:18:19.195Z"
    }
   },
   "outputs": [],
   "source": [
    "df_pesticides[df_pesticides[\"REF....SUBSTANCE\"] == \"B0017\"]"
   ]
  },
  {
   "cell_type": "code",
   "execution_count": null,
   "metadata": {
    "ExecuteTime": {
     "end_time": "2021-02-10T13:18:23.322568Z",
     "start_time": "2021-02-10T13:18:19.199Z"
    },
    "scrolled": true
   },
   "outputs": [],
   "source": [
    "df_2017 = pd.concat([pest_2017_p1, pest_2017_p2, pest_2017_p3, pest_2017_p4])\n",
    "df_2017.sort_values([\"REF....SUBSTANCE\", \"PERIOD\"])\n",
    "df_2017.head()"
   ]
  },
  {
   "cell_type": "code",
   "execution_count": null,
   "metadata": {
    "ExecuteTime": {
     "end_time": "2021-02-10T13:18:23.329240Z",
     "start_time": "2021-02-10T13:18:19.201Z"
    }
   },
   "outputs": [],
   "source": [
    "plot_2017 = plt.subplots(figsize=(6,6))\n",
    "plt.bar(df_2017[\"REF....SUBSTANCE\"],df_2017[\"PERIOD\"])\n",
    "plt.xticks(rotation=90)\n",
    "plt.show()"
   ]
  },
  {
   "cell_type": "code",
   "execution_count": null,
   "metadata": {
    "ExecuteTime": {
     "end_time": "2021-02-10T13:18:23.335589Z",
     "start_time": "2021-02-10T13:18:19.204Z"
    },
    "scrolled": false
   },
   "outputs": [],
   "source": [
    "df_2018 = pd.concat([pest_2018_p1, pest_2018_p2, pest_2018_p3, pest_2018_p4])\n",
    "df_2018.sort_values([\"REF....SUBSTANCE\", \"PERIOD\"])\n",
    "df_2018.head()"
   ]
  },
  {
   "cell_type": "code",
   "execution_count": null,
   "metadata": {
    "ExecuteTime": {
     "end_time": "2021-02-10T13:18:23.349907Z",
     "start_time": "2021-02-10T13:18:19.206Z"
    }
   },
   "outputs": [],
   "source": [
    "plot_2018 = plt.subplots(figsize=(18,8))\n",
    "plt.bar(df_2018[\"REF....SUBSTANCE\"],df_2018[\"PERIOD\"])\n",
    "plt.xticks(rotation=90)\n",
    "plt.show()"
   ]
  },
  {
   "cell_type": "code",
   "execution_count": null,
   "metadata": {
    "ExecuteTime": {
     "end_time": "2021-02-10T13:18:23.363045Z",
     "start_time": "2021-02-10T13:18:19.209Z"
    },
    "scrolled": true
   },
   "outputs": [],
   "source": [
    "df_2018.shape"
   ]
  },
  {
   "cell_type": "code",
   "execution_count": null,
   "metadata": {
    "ExecuteTime": {
     "end_time": "2021-02-10T13:18:23.365390Z",
     "start_time": "2021-02-10T13:18:19.211Z"
    },
    "scrolled": true
   },
   "outputs": [],
   "source": [
    "df_2019 = pd.concat([pest_2019_p1, pest_2019_p2, pest_2019_p3, pest_2019_p4])\n",
    "df_2019.sort_values([\"REF....SUBSTANCE\", \"PERIOD\"])\n",
    "df_2019.head()"
   ]
  },
  {
   "cell_type": "code",
   "execution_count": null,
   "metadata": {
    "ExecuteTime": {
     "end_time": "2021-02-10T13:18:23.368430Z",
     "start_time": "2021-02-10T13:18:19.213Z"
    }
   },
   "outputs": [],
   "source": [
    "plot_2019 = plt.subplots(figsize=(18,8))\n",
    "plt.bar(df_2019[\"REF....SUBSTANCE\"],df_2019[\"PERIOD\"])\n",
    "plt.xticks(rotation=90)\n",
    "plt.show()"
   ]
  },
  {
   "cell_type": "code",
   "execution_count": null,
   "metadata": {
    "ExecuteTime": {
     "end_time": "2021-02-10T13:18:23.371920Z",
     "start_time": "2021-02-10T13:18:19.216Z"
    }
   },
   "outputs": [],
   "source": [
    "df_2019.shape"
   ]
  },
  {
   "cell_type": "code",
   "execution_count": null,
   "metadata": {
    "ExecuteTime": {
     "end_time": "2021-02-10T13:18:23.374488Z",
     "start_time": "2021-02-10T13:18:19.219Z"
    },
    "scrolled": false
   },
   "outputs": [],
   "source": [
    "df_2020 = pd.concat([pest_2020_p1, pest_2020_p2, pest_2020_p3, pest_2020_p4])\n",
    "df_2020.sort_values([\"REF....SUBSTANCE\", \"PERIOD\"])\n",
    "df_2020.head()"
   ]
  },
  {
   "cell_type": "code",
   "execution_count": null,
   "metadata": {
    "ExecuteTime": {
     "end_time": "2021-02-10T13:18:23.378796Z",
     "start_time": "2021-02-10T13:18:19.221Z"
    }
   },
   "outputs": [],
   "source": [
    "plot_2020 = plt.subplots(figsize=(18,8))\n",
    "plt.bar(df_2020[\"REF....SUBSTANCE\"],df_2020[\"PERIOD\"])\n",
    "plt.xticks(rotation=90)\n",
    "plt.show()"
   ]
  },
  {
   "cell_type": "code",
   "execution_count": null,
   "metadata": {
    "ExecuteTime": {
     "end_time": "2021-02-10T13:18:23.384626Z",
     "start_time": "2021-02-10T13:18:19.223Z"
    }
   },
   "outputs": [],
   "source": [
    "data_years = [df_2020,df_2019,df_2018,df_2017]\n",
    "years = [2020, 2019, 2018, 2017]\n",
    "for i,ii in zip(data_years, years) :\n",
    "    print(f\"the shape for {ii} is {i.shape}\")\n",
    "print(\"---------------------------------------------------\")\n",
    "\n",
    "\n",
    "print(f\"the shape for pest_2017_p1 {pest_2017_p1.shape}\")   \n",
    "print(f\"the shape for pest_2017_p2 {pest_2017_p2.shape}\")    \n",
    "print(f\"the shape for pest_2017_p3 {pest_2017_p3.shape}\")    \n",
    "print(f\"the shape for pest_2017_p4 {pest_2017_p4.shape}\")    \n",
    "print(\"---------------------------------------------------\")\n",
    "print(f\"the shape for pest_2018_p1 {pest_2018_p1.shape}\")   \n",
    "print(f\"the shape for pest_2018_p2 {pest_2018_p2.shape}\")    \n",
    "print(f\"the shape for pest_2018_p3 {pest_2018_p3.shape}\")    \n",
    "print(f\"the shape for pest_2018_p4 {pest_2018_p4.shape}\") \n",
    "print(\"---------------------------------------------------\")\n",
    "\n",
    "print(f\"the shape for pest_2019_p1 {pest_2019_p1.shape}\")   \n",
    "print(f\"the shape for pest_2019_p2 {pest_2019_p2.shape}\")    \n",
    "print(f\"the shape for pest_2019_p3 {pest_2019_p3.shape}\")    \n",
    "print(f\"the shape for pest_2019_p4 {pest_2019_p4.shape}\") \n",
    "print(\"---------------------------------------------------\")\n",
    "\n",
    "print(f\"the shape for pest_2020_p1 {pest_2020_p1.shape}\")   \n",
    "print(f\"the shape for pest_2020_p2 {pest_2020_p2.shape}\")    \n",
    "print(f\"the shape for pest_2020_p3 {pest_2020_p3.shape}\")    \n",
    "print(f\"the shape for pest_2020_p4 {pest_2020_p4.shape}\") "
   ]
  },
  {
   "cell_type": "code",
   "execution_count": null,
   "metadata": {},
   "outputs": [],
   "source": []
  }
 ],
 "metadata": {
  "kernelspec": {
   "display_name": "Python 3",
   "language": "python",
   "name": "python3"
  },
  "language_info": {
   "codemirror_mode": {
    "name": "ipython",
    "version": 3
   },
   "file_extension": ".py",
   "mimetype": "text/x-python",
   "name": "python",
   "nbconvert_exporter": "python",
   "pygments_lexer": "ipython3",
   "version": "3.8.5"
  }
 },
 "nbformat": 4,
 "nbformat_minor": 4
}
