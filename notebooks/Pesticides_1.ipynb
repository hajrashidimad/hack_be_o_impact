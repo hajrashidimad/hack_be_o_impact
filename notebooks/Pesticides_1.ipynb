{
 "cells": [
  {
   "cell_type": "code",
   "execution_count": 1,
   "metadata": {},
   "outputs": [],
   "source": [
    "import pandas as pd\n",
    "import matplotlib.pyplot as plt\n",
    "import seaborn as sns\n",
    "import numpy as np"
   ]
  },
  {
   "cell_type": "code",
   "execution_count": 2,
   "metadata": {},
   "outputs": [],
   "source": [
    "\n",
    "pest_2017_p1 = pd.read_excel(\"/home/imad/Desktop/Becode/Project/hack_be_o_impact/data/original/2017/Pesticides/PESTICIDES_2017_P1.xlsx\")\n",
    "pest_2017_p2 = pd.read_excel(\"/home/imad/Desktop/Becode/Project/hack_be_o_impact/data/original/2017/Pesticides/PESTICIDES_2017_P2.xlsx\")\n",
    "pest_2017_p3 = pd.read_excel(\"/home/imad/Desktop/Becode/Project/hack_be_o_impact/data/original/2017/Pesticides/PESTICIDES_2017_P3.xlsx\")\n",
    "pest_2017_p4 = pd.read_excel(\"/home/imad/Desktop/Becode/Project/hack_be_o_impact/data/original/2017/Pesticides/PESTICIDES_2017_P4.xlsx\")\n",
    "\n",
    "pest_2018_p1 = pd.read_excel(\"/home/imad/Desktop/Becode/Project/hack_be_o_impact//data/original/2018/Pesticides/PESTICIDES_2018_P1.xlsx\")\n",
    "pest_2018_p2 = pd.read_excel(\"/home/imad/Desktop/Becode/Project/hack_be_o_impact//data/original/2018/Pesticides/PESTICIDES_2018_P2.xlsx\")\n",
    "pest_2018_p3 = pd.read_excel(\"/home/imad/Desktop/Becode/Project/hack_be_o_impact//data/original/2018/Pesticides/PESTICIDES_2018_P3.xlsx\")\n",
    "pest_2018_p4 = pd.read_excel(\"/home/imad/Desktop/Becode/Project/hack_be_o_impact//data/original/2018/Pesticides/PESTICIDES_2018_P4.xlsx\")\n",
    "\n",
    "\n",
    "pest_2019_p1 = pd.read_excel(\"/home/imad/Desktop/Becode/Project/hack_be_o_impact//data/original/2019/Pesticides/PESTICIDES_2019_P1.xlsx\")\n",
    "pest_2019_p2 = pd.read_excel(\"/home/imad/Desktop/Becode/Project/hack_be_o_impact//data/original/2019/Pesticides/PESTICIDES_2019_P2.xlsx\")\n",
    "pest_2019_p3 = pd.read_excel(\"/home/imad/Desktop/Becode/Project/hack_be_o_impact/data/original/2019/Pesticides/PESTICIDES_2019_P3.xlsx\")\n",
    "pest_2019_p4 = pd.read_excel(\"/home/imad/Desktop/Becode/Project/hack_be_o_impact//data/original/2019/Pesticides/PESTICIDES_2019_P4.xlsx\")\n",
    "\n",
    "\n",
    "pest_2020_p1 = pd.read_excel(\"/home/imad/Desktop/Becode/Project/hack_be_o_impact//data/original/2020/Pesticides/PESTICIDES_2020_P1.xlsx\")\n",
    "pest_2020_p2 = pd.read_excel(\"/home/imad/Desktop/Becode/Project/hack_be_o_impact//data/original/2020/Pesticides/PESTICIDES_2020_P2.xlsx\")\n",
    "pest_2020_p3 = pd.read_excel(\"/home/imad/Desktop/Becode/Project/hack_be_o_impact//data/original/2020/Pesticides/PESTICIDES_2020_P3.xlsx\")\n",
    "pest_2020_p4 = pd.read_excel(\"/home/imad/Desktop/Becode/Project/hack_be_o_impact//data/original/2020/Pesticides/PESTICIDES_2020_P4.xlsx\")\n",
    "lmr_pest = pd.read_excel(\"../data/original/pesticides.xlsx\")\n",
    "\n",
    "\n",
    "df_pesticides = pd.read_excel(\"/home/imad/Desktop/Becode/Project/hack_be_o_impact/data/original/pesticides.xlsx\")\n",
    "pesticides = pd.concat([pest_2020_p1,pest_2020_p2,pest_2020_p3,pest_2020_p4,pest_2019_p1,pest_2019_p2,pest_2019_p3,pest_2019_p4,pest_2018_p1,pest_2018_p2,pest_2018_p3,pest_2018_p4,pest_2017_p1,pest_2017_p2,pest_2017_p3,pest_2017_p4])"
   ]
  },
  {
   "cell_type": "code",
   "execution_count": 3,
   "metadata": {},
   "outputs": [
    {
     "data": {
      "text/html": [
       "<div>\n",
       "<style scoped>\n",
       "    .dataframe tbody tr th:only-of-type {\n",
       "        vertical-align: middle;\n",
       "    }\n",
       "\n",
       "    .dataframe tbody tr th {\n",
       "        vertical-align: top;\n",
       "    }\n",
       "\n",
       "    .dataframe thead th {\n",
       "        text-align: right;\n",
       "    }\n",
       "</style>\n",
       "<table border=\"1\" class=\"dataframe\">\n",
       "  <thead>\n",
       "    <tr style=\"text-align: right;\">\n",
       "      <th></th>\n",
       "      <th>REF....SUBSTANCE</th>\n",
       "      <th>PERIOD</th>\n",
       "      <th>X6.benzylaminopurine</th>\n",
       "      <th>Aclonifen</th>\n",
       "      <th>Ametoctradin</th>\n",
       "      <th>Anthraquinone</th>\n",
       "      <th>Azoxystrobin</th>\n",
       "      <th>Benalaxyl</th>\n",
       "      <th>Boscalid</th>\n",
       "      <th>Captan</th>\n",
       "      <th>...</th>\n",
       "      <th>Chlorotoluron</th>\n",
       "      <th>Propargite</th>\n",
       "      <th>Aldrin</th>\n",
       "      <th>Cyanofenphos</th>\n",
       "      <th>Cypermethrin</th>\n",
       "      <th>Pencycuron</th>\n",
       "      <th>X2.phenylphenol</th>\n",
       "      <th>Famoxadone</th>\n",
       "      <th>Tetradifon</th>\n",
       "      <th>Flufenacet</th>\n",
       "    </tr>\n",
       "  </thead>\n",
       "  <tbody>\n",
       "    <tr>\n",
       "      <th>0</th>\n",
       "      <td>B0012</td>\n",
       "      <td>2020/P1</td>\n",
       "      <td>0.0</td>\n",
       "      <td>0.0048</td>\n",
       "      <td>0.0</td>\n",
       "      <td>0.0</td>\n",
       "      <td>0.0</td>\n",
       "      <td>0.0</td>\n",
       "      <td>0.0</td>\n",
       "      <td>0.270</td>\n",
       "      <td>...</td>\n",
       "      <td>NaN</td>\n",
       "      <td>NaN</td>\n",
       "      <td>NaN</td>\n",
       "      <td>NaN</td>\n",
       "      <td>NaN</td>\n",
       "      <td>NaN</td>\n",
       "      <td>NaN</td>\n",
       "      <td>NaN</td>\n",
       "      <td>NaN</td>\n",
       "      <td>NaN</td>\n",
       "    </tr>\n",
       "    <tr>\n",
       "      <th>1</th>\n",
       "      <td>B0017</td>\n",
       "      <td>2020/P1</td>\n",
       "      <td>0.0</td>\n",
       "      <td>0.0000</td>\n",
       "      <td>0.0</td>\n",
       "      <td>0.0</td>\n",
       "      <td>0.0</td>\n",
       "      <td>0.0</td>\n",
       "      <td>0.0</td>\n",
       "      <td>0.016</td>\n",
       "      <td>...</td>\n",
       "      <td>NaN</td>\n",
       "      <td>NaN</td>\n",
       "      <td>NaN</td>\n",
       "      <td>NaN</td>\n",
       "      <td>NaN</td>\n",
       "      <td>NaN</td>\n",
       "      <td>NaN</td>\n",
       "      <td>NaN</td>\n",
       "      <td>NaN</td>\n",
       "      <td>NaN</td>\n",
       "    </tr>\n",
       "    <tr>\n",
       "      <th>2</th>\n",
       "      <td>B0019</td>\n",
       "      <td>2020/P1</td>\n",
       "      <td>0.0</td>\n",
       "      <td>0.0000</td>\n",
       "      <td>0.0</td>\n",
       "      <td>0.0</td>\n",
       "      <td>0.0</td>\n",
       "      <td>0.0</td>\n",
       "      <td>0.0</td>\n",
       "      <td>0.011</td>\n",
       "      <td>...</td>\n",
       "      <td>NaN</td>\n",
       "      <td>NaN</td>\n",
       "      <td>NaN</td>\n",
       "      <td>NaN</td>\n",
       "      <td>NaN</td>\n",
       "      <td>NaN</td>\n",
       "      <td>NaN</td>\n",
       "      <td>NaN</td>\n",
       "      <td>NaN</td>\n",
       "      <td>NaN</td>\n",
       "    </tr>\n",
       "    <tr>\n",
       "      <th>3</th>\n",
       "      <td>B0021</td>\n",
       "      <td>2020/P1</td>\n",
       "      <td>0.0</td>\n",
       "      <td>0.0000</td>\n",
       "      <td>0.0</td>\n",
       "      <td>0.0</td>\n",
       "      <td>0.0</td>\n",
       "      <td>0.0</td>\n",
       "      <td>0.0</td>\n",
       "      <td>0.010</td>\n",
       "      <td>...</td>\n",
       "      <td>NaN</td>\n",
       "      <td>NaN</td>\n",
       "      <td>NaN</td>\n",
       "      <td>NaN</td>\n",
       "      <td>NaN</td>\n",
       "      <td>NaN</td>\n",
       "      <td>NaN</td>\n",
       "      <td>NaN</td>\n",
       "      <td>NaN</td>\n",
       "      <td>NaN</td>\n",
       "    </tr>\n",
       "    <tr>\n",
       "      <th>4</th>\n",
       "      <td>B0023</td>\n",
       "      <td>2020/P1</td>\n",
       "      <td>0.0</td>\n",
       "      <td>0.0000</td>\n",
       "      <td>0.0</td>\n",
       "      <td>0.0</td>\n",
       "      <td>0.0</td>\n",
       "      <td>0.0</td>\n",
       "      <td>0.0</td>\n",
       "      <td>0.011</td>\n",
       "      <td>...</td>\n",
       "      <td>NaN</td>\n",
       "      <td>NaN</td>\n",
       "      <td>NaN</td>\n",
       "      <td>NaN</td>\n",
       "      <td>NaN</td>\n",
       "      <td>NaN</td>\n",
       "      <td>NaN</td>\n",
       "      <td>NaN</td>\n",
       "      <td>NaN</td>\n",
       "      <td>NaN</td>\n",
       "    </tr>\n",
       "  </tbody>\n",
       "</table>\n",
       "<p>5 rows × 117 columns</p>\n",
       "</div>"
      ],
      "text/plain": [
       "  REF....SUBSTANCE   PERIOD  X6.benzylaminopurine  Aclonifen  Ametoctradin  \\\n",
       "0            B0012  2020/P1                   0.0     0.0048           0.0   \n",
       "1            B0017  2020/P1                   0.0     0.0000           0.0   \n",
       "2            B0019  2020/P1                   0.0     0.0000           0.0   \n",
       "3            B0021  2020/P1                   0.0     0.0000           0.0   \n",
       "4            B0023  2020/P1                   0.0     0.0000           0.0   \n",
       "\n",
       "   Anthraquinone  Azoxystrobin  Benalaxyl  Boscalid  Captan  ...  \\\n",
       "0            0.0           0.0        0.0       0.0   0.270  ...   \n",
       "1            0.0           0.0        0.0       0.0   0.016  ...   \n",
       "2            0.0           0.0        0.0       0.0   0.011  ...   \n",
       "3            0.0           0.0        0.0       0.0   0.010  ...   \n",
       "4            0.0           0.0        0.0       0.0   0.011  ...   \n",
       "\n",
       "   Chlorotoluron  Propargite  Aldrin  Cyanofenphos  Cypermethrin  Pencycuron  \\\n",
       "0            NaN         NaN     NaN           NaN           NaN         NaN   \n",
       "1            NaN         NaN     NaN           NaN           NaN         NaN   \n",
       "2            NaN         NaN     NaN           NaN           NaN         NaN   \n",
       "3            NaN         NaN     NaN           NaN           NaN         NaN   \n",
       "4            NaN         NaN     NaN           NaN           NaN         NaN   \n",
       "\n",
       "   X2.phenylphenol  Famoxadone  Tetradifon  Flufenacet  \n",
       "0              NaN         NaN         NaN         NaN  \n",
       "1              NaN         NaN         NaN         NaN  \n",
       "2              NaN         NaN         NaN         NaN  \n",
       "3              NaN         NaN         NaN         NaN  \n",
       "4              NaN         NaN         NaN         NaN  \n",
       "\n",
       "[5 rows x 117 columns]"
      ]
     },
     "execution_count": 3,
     "metadata": {},
     "output_type": "execute_result"
    }
   ],
   "source": [
    "pesticides.head()"
   ]
  },
  {
   "cell_type": "code",
   "execution_count": 4,
   "metadata": {
    "scrolled": true
   },
   "outputs": [
    {
     "data": {
      "text/html": [
       "<div>\n",
       "<style scoped>\n",
       "    .dataframe tbody tr th:only-of-type {\n",
       "        vertical-align: middle;\n",
       "    }\n",
       "\n",
       "    .dataframe tbody tr th {\n",
       "        vertical-align: top;\n",
       "    }\n",
       "\n",
       "    .dataframe thead th {\n",
       "        text-align: right;\n",
       "    }\n",
       "</style>\n",
       "<table border=\"1\" class=\"dataframe\">\n",
       "  <thead>\n",
       "    <tr style=\"text-align: right;\">\n",
       "      <th></th>\n",
       "      <th>importName</th>\n",
       "      <th>name</th>\n",
       "      <th>statusEN</th>\n",
       "      <th>LMR</th>\n",
       "      <th>familyEN</th>\n",
       "      <th>typeEN</th>\n",
       "    </tr>\n",
       "  </thead>\n",
       "  <tbody>\n",
       "    <tr>\n",
       "      <th>0</th>\n",
       "      <td>Aclonifen</td>\n",
       "      <td>aclonifen</td>\n",
       "      <td>authorized</td>\n",
       "      <td>0.05</td>\n",
       "      <td>diphenyl ether</td>\n",
       "      <td>herbicide</td>\n",
       "    </tr>\n",
       "    <tr>\n",
       "      <th>1</th>\n",
       "      <td>Aldrin</td>\n",
       "      <td>aldrin</td>\n",
       "      <td>prohibited</td>\n",
       "      <td>0.01</td>\n",
       "      <td>organochlorine</td>\n",
       "      <td>insecticide</td>\n",
       "    </tr>\n",
       "    <tr>\n",
       "      <th>2</th>\n",
       "      <td>Ametoctradin</td>\n",
       "      <td>ametoctradin</td>\n",
       "      <td>authorized</td>\n",
       "      <td>0.05</td>\n",
       "      <td>triazolopyrimidine</td>\n",
       "      <td>fungicide</td>\n",
       "    </tr>\n",
       "    <tr>\n",
       "      <th>3</th>\n",
       "      <td>Anthraquinone</td>\n",
       "      <td>anthraquinone</td>\n",
       "      <td>prohibited</td>\n",
       "      <td>0.02</td>\n",
       "      <td>polycyclic aromatic hydrocarbon</td>\n",
       "      <td>bird repellant</td>\n",
       "    </tr>\n",
       "    <tr>\n",
       "      <th>4</th>\n",
       "      <td>Azoxystrobin</td>\n",
       "      <td>azoxystrobin</td>\n",
       "      <td>authorized</td>\n",
       "      <td>0.05</td>\n",
       "      <td>strobilurin</td>\n",
       "      <td>fungicide</td>\n",
       "    </tr>\n",
       "  </tbody>\n",
       "</table>\n",
       "</div>"
      ],
      "text/plain": [
       "      importName           name    statusEN   LMR  \\\n",
       "0      Aclonifen      aclonifen  authorized  0.05   \n",
       "1         Aldrin         aldrin  prohibited  0.01   \n",
       "2   Ametoctradin   ametoctradin  authorized  0.05   \n",
       "3  Anthraquinone  anthraquinone  prohibited  0.02   \n",
       "4   Azoxystrobin   azoxystrobin  authorized  0.05   \n",
       "\n",
       "                          familyEN          typeEN  \n",
       "0                   diphenyl ether       herbicide  \n",
       "1                   organochlorine     insecticide  \n",
       "2               triazolopyrimidine       fungicide  \n",
       "3  polycyclic aromatic hydrocarbon  bird repellant  \n",
       "4                      strobilurin       fungicide  "
      ]
     },
     "execution_count": 4,
     "metadata": {},
     "output_type": "execute_result"
    }
   ],
   "source": [
    "lmr_pest.head()"
   ]
  },
  {
   "cell_type": "code",
   "execution_count": 5,
   "metadata": {},
   "outputs": [
    {
     "data": {
      "text/plain": [
       "0             herbicide\n",
       "1           insecticide\n",
       "2             fungicide\n",
       "3        bird repellant\n",
       "4             fungicide\n",
       "             ...       \n",
       "109           fungicide\n",
       "110           herbicide\n",
       "111           fungicide\n",
       "112    growth regulator\n",
       "113           fungicide\n",
       "Name: typeEN, Length: 114, dtype: object"
      ]
     },
     "execution_count": 5,
     "metadata": {},
     "output_type": "execute_result"
    }
   ],
   "source": [
    "lmr_pest[lmr_pest.columns][\"typeEN\"]\n"
   ]
  },
  {
   "cell_type": "code",
   "execution_count": 6,
   "metadata": {
    "scrolled": false
   },
   "outputs": [
    {
     "data": {
      "text/plain": [
       "array(['herbicide', 'insecticide', 'fungicide', 'bird repellant',\n",
       "       'growth regulator, fungicide and insecticide',\n",
       "       'insecticide, molluscicide and bird repellent', 'acaricide',\n",
       "       'fungicide and growth regulator', 'growth regulator'], dtype=object)"
      ]
     },
     "execution_count": 6,
     "metadata": {},
     "output_type": "execute_result"
    }
   ],
   "source": [
    "lmr_pest[\"typeEN\"].unique()"
   ]
  },
  {
   "cell_type": "code",
   "execution_count": 7,
   "metadata": {},
   "outputs": [
    {
     "data": {
      "text/plain": [
       "3             Anthraquinone\n",
       "34            Diphenylamine\n",
       "69         Methiocarb_total\n",
       "86               Propargite\n",
       "100            Tebuconazole\n",
       "112    X6.benzylaminopurine\n",
       "Name: importName, dtype: object"
      ]
     },
     "execution_count": 7,
     "metadata": {},
     "output_type": "execute_result"
    }
   ],
   "source": [
    "lmr_pest[(lmr_pest[\"typeEN\"] != \"fungicide\" ) & (lmr_pest[\"typeEN\"] != \"insecticide\" ) & (lmr_pest[\"typeEN\"] != \"herbicide\" ) ][\"importName\"]"
   ]
  },
  {
   "cell_type": "code",
   "execution_count": 8,
   "metadata": {},
   "outputs": [],
   "source": [
    "# df_fungicide = df_pesticides[lmr_pest[lmr_pest[\"typeEN\"] == \"fungicide\" ][\"importName\"]]\n",
    "# df_insecticide = df_pesticides[lmr_pest[lmr_pest[\"typeEN\"] == \"insecticide\" ][\"importName\"]]\n",
    "# df_herbicide = df_pesticides[lmr_pest[lmr_pest[\"typeEN\"] == \"herbicide\" ][\"importName\"]]\n",
    "# df_other_pest = df_pesticides[lmr_pest[(lmr_pest[\"typeEN\"] != \"fungicide\" ) & (lmr_pest[\"typeEN\"] != \"insecticide\" ) & (lmr_pest[\"typeEN\"] != \"herbicide\" ) ][\"importName\"]]\n",
    "\n",
    "# df_fungicide"
   ]
  },
  {
   "cell_type": "code",
   "execution_count": 9,
   "metadata": {
    "scrolled": false
   },
   "outputs": [
    {
     "data": {
      "text/html": [
       "<div>\n",
       "<style scoped>\n",
       "    .dataframe tbody tr th:only-of-type {\n",
       "        vertical-align: middle;\n",
       "    }\n",
       "\n",
       "    .dataframe tbody tr th {\n",
       "        vertical-align: top;\n",
       "    }\n",
       "\n",
       "    .dataframe thead th {\n",
       "        text-align: right;\n",
       "    }\n",
       "</style>\n",
       "<table border=\"1\" class=\"dataframe\">\n",
       "  <thead>\n",
       "    <tr style=\"text-align: right;\">\n",
       "      <th></th>\n",
       "      <th>importName</th>\n",
       "      <th>name</th>\n",
       "      <th>statusEN</th>\n",
       "      <th>LMR</th>\n",
       "      <th>familyEN</th>\n",
       "      <th>typeEN</th>\n",
       "    </tr>\n",
       "  </thead>\n",
       "  <tbody>\n",
       "    <tr>\n",
       "      <th>0</th>\n",
       "      <td>Aclonifen</td>\n",
       "      <td>aclonifen</td>\n",
       "      <td>authorized</td>\n",
       "      <td>0.05</td>\n",
       "      <td>diphenyl ether</td>\n",
       "      <td>herbicide</td>\n",
       "    </tr>\n",
       "    <tr>\n",
       "      <th>1</th>\n",
       "      <td>Aldrin</td>\n",
       "      <td>aldrin</td>\n",
       "      <td>prohibited</td>\n",
       "      <td>0.01</td>\n",
       "      <td>organochlorine</td>\n",
       "      <td>insecticide</td>\n",
       "    </tr>\n",
       "    <tr>\n",
       "      <th>2</th>\n",
       "      <td>Ametoctradin</td>\n",
       "      <td>ametoctradin</td>\n",
       "      <td>authorized</td>\n",
       "      <td>0.05</td>\n",
       "      <td>triazolopyrimidine</td>\n",
       "      <td>fungicide</td>\n",
       "    </tr>\n",
       "    <tr>\n",
       "      <th>3</th>\n",
       "      <td>Anthraquinone</td>\n",
       "      <td>anthraquinone</td>\n",
       "      <td>prohibited</td>\n",
       "      <td>0.02</td>\n",
       "      <td>polycyclic aromatic hydrocarbon</td>\n",
       "      <td>bird repellant</td>\n",
       "    </tr>\n",
       "    <tr>\n",
       "      <th>4</th>\n",
       "      <td>Azoxystrobin</td>\n",
       "      <td>azoxystrobin</td>\n",
       "      <td>authorized</td>\n",
       "      <td>0.05</td>\n",
       "      <td>strobilurin</td>\n",
       "      <td>fungicide</td>\n",
       "    </tr>\n",
       "  </tbody>\n",
       "</table>\n",
       "</div>"
      ],
      "text/plain": [
       "      importName           name    statusEN   LMR  \\\n",
       "0      Aclonifen      aclonifen  authorized  0.05   \n",
       "1         Aldrin         aldrin  prohibited  0.01   \n",
       "2   Ametoctradin   ametoctradin  authorized  0.05   \n",
       "3  Anthraquinone  anthraquinone  prohibited  0.02   \n",
       "4   Azoxystrobin   azoxystrobin  authorized  0.05   \n",
       "\n",
       "                          familyEN          typeEN  \n",
       "0                   diphenyl ether       herbicide  \n",
       "1                   organochlorine     insecticide  \n",
       "2               triazolopyrimidine       fungicide  \n",
       "3  polycyclic aromatic hydrocarbon  bird repellant  \n",
       "4                      strobilurin       fungicide  "
      ]
     },
     "execution_count": 9,
     "metadata": {},
     "output_type": "execute_result"
    }
   ],
   "source": [
    "\n",
    "df_pesticides.head()"
   ]
  },
  {
   "cell_type": "code",
   "execution_count": 10,
   "metadata": {},
   "outputs": [
    {
     "data": {
      "text/plain": [
       "0    0.05\n",
       "Name: LMR, dtype: float64"
      ]
     },
     "execution_count": 10,
     "metadata": {},
     "output_type": "execute_result"
    }
   ],
   "source": [
    "LMR = lmr_pest[lmr_pest[\"importName\"] == \"Aclonifen\"][\"LMR\"]\n",
    "LMR"
   ]
  },
  {
   "cell_type": "code",
   "execution_count": 11,
   "metadata": {},
   "outputs": [],
   "source": [
    "# pesticides[\"REF....SUBSTANCE\"] = pesticides[\"REF....SUBSTANCE\"]\n",
    "# pesticides[\"PERIOD\"] = pesticides[\"PERIOD\"]\n",
    "\n",
    "pesticides[\"Fungicide\"] = 0\n",
    "pesticides[\"Insecticide\"] = 0\n",
    "pesticides[\"Herbicide\"] = 0\n",
    "pesticides[\"Other_pesticides\"] = 0\n",
    "\n",
    "pesticides[\"LMR_Fungicide\"] = 0\n",
    "pesticides[\"LMR_Insecticide\"] = 0\n",
    "pesticides[\"LMR_Herbicide\"] = 0\n",
    "pesticides[\"LMR_Other_pesticides\"] = 0\n",
    "\n",
    "# pesticides[\"pass_Fungicide\"] = False\n",
    "# pesticides[\"pass_Insecticide\"] = False\n",
    "# pesticides[\"pass_Herbicide\"] = False\n",
    "# pesticides[\"pass_Other_pesticides\"] = False\n",
    "\n"
   ]
  },
  {
   "cell_type": "code",
   "execution_count": 12,
   "metadata": {},
   "outputs": [],
   "source": [
    "# pesticides[\"Fungicide\"] = pesticides[\"Fungicide\"].apply()\n",
    "\n"
   ]
  },
  {
   "cell_type": "code",
   "execution_count": 16,
   "metadata": {},
   "outputs": [
    {
     "ename": "ValueError",
     "evalue": "Can only compare identically-labeled Series objects",
     "output_type": "error",
     "traceback": [
      "\u001b[0;31m---------------------------------------------------------------------------\u001b[0m",
      "\u001b[0;31mValueError\u001b[0m                                Traceback (most recent call last)",
      "\u001b[0;32m<ipython-input-16-4d7dd9f62757>\u001b[0m in \u001b[0;36m<module>\u001b[0;34m\u001b[0m\n\u001b[1;32m      8\u001b[0m         \u001b[0mLMR\u001b[0m \u001b[0;34m=\u001b[0m \u001b[0mlmr_pest\u001b[0m\u001b[0;34m[\u001b[0m\u001b[0mlmr_pest\u001b[0m\u001b[0;34m[\u001b[0m\u001b[0;34m\"importName\"\u001b[0m\u001b[0;34m]\u001b[0m \u001b[0;34m==\u001b[0m \u001b[0mcol\u001b[0m\u001b[0;34m]\u001b[0m\u001b[0;34m[\u001b[0m\u001b[0;34m\"LMR\"\u001b[0m\u001b[0;34m]\u001b[0m\u001b[0;34m\u001b[0m\u001b[0;34m\u001b[0m\u001b[0m\n\u001b[1;32m      9\u001b[0m         \u001b[0mfilter_pest\u001b[0m \u001b[0;34m=\u001b[0m \u001b[0mpesticides\u001b[0m\u001b[0;34m[\u001b[0m\u001b[0mcol\u001b[0m\u001b[0;34m]\u001b[0m \u001b[0;34m>\u001b[0m \u001b[0;36m0\u001b[0m\u001b[0;34m\u001b[0m\u001b[0;34m\u001b[0m\u001b[0m\n\u001b[0;32m---> 10\u001b[0;31m         \u001b[0mfilter_pest_LMR\u001b[0m \u001b[0;34m=\u001b[0m \u001b[0mpesticides\u001b[0m\u001b[0;34m[\u001b[0m\u001b[0mcol\u001b[0m\u001b[0;34m]\u001b[0m \u001b[0;34m>\u001b[0m \u001b[0mLMR\u001b[0m\u001b[0;34m\u001b[0m\u001b[0;34m\u001b[0m\u001b[0m\n\u001b[0m\u001b[1;32m     11\u001b[0m \u001b[0;34m\u001b[0m\u001b[0m\n\u001b[1;32m     12\u001b[0m \u001b[0;34m\u001b[0m\u001b[0m\n",
      "\u001b[0;32m~/anaconda3/lib/python3.8/site-packages/pandas/core/ops/common.py\u001b[0m in \u001b[0;36mnew_method\u001b[0;34m(self, other)\u001b[0m\n\u001b[1;32m     63\u001b[0m         \u001b[0mother\u001b[0m \u001b[0;34m=\u001b[0m \u001b[0mitem_from_zerodim\u001b[0m\u001b[0;34m(\u001b[0m\u001b[0mother\u001b[0m\u001b[0;34m)\u001b[0m\u001b[0;34m\u001b[0m\u001b[0;34m\u001b[0m\u001b[0m\n\u001b[1;32m     64\u001b[0m \u001b[0;34m\u001b[0m\u001b[0m\n\u001b[0;32m---> 65\u001b[0;31m         \u001b[0;32mreturn\u001b[0m \u001b[0mmethod\u001b[0m\u001b[0;34m(\u001b[0m\u001b[0mself\u001b[0m\u001b[0;34m,\u001b[0m \u001b[0mother\u001b[0m\u001b[0;34m)\u001b[0m\u001b[0;34m\u001b[0m\u001b[0;34m\u001b[0m\u001b[0m\n\u001b[0m\u001b[1;32m     66\u001b[0m \u001b[0;34m\u001b[0m\u001b[0m\n\u001b[1;32m     67\u001b[0m     \u001b[0;32mreturn\u001b[0m \u001b[0mnew_method\u001b[0m\u001b[0;34m\u001b[0m\u001b[0;34m\u001b[0m\u001b[0m\n",
      "\u001b[0;32m~/anaconda3/lib/python3.8/site-packages/pandas/core/ops/__init__.py\u001b[0m in \u001b[0;36mwrapper\u001b[0;34m(self, other)\u001b[0m\n\u001b[1;32m    363\u001b[0m \u001b[0;34m\u001b[0m\u001b[0m\n\u001b[1;32m    364\u001b[0m         \u001b[0;32mif\u001b[0m \u001b[0misinstance\u001b[0m\u001b[0;34m(\u001b[0m\u001b[0mother\u001b[0m\u001b[0;34m,\u001b[0m \u001b[0mABCSeries\u001b[0m\u001b[0;34m)\u001b[0m \u001b[0;32mand\u001b[0m \u001b[0;32mnot\u001b[0m \u001b[0mself\u001b[0m\u001b[0;34m.\u001b[0m\u001b[0m_indexed_same\u001b[0m\u001b[0;34m(\u001b[0m\u001b[0mother\u001b[0m\u001b[0;34m)\u001b[0m\u001b[0;34m:\u001b[0m\u001b[0;34m\u001b[0m\u001b[0;34m\u001b[0m\u001b[0m\n\u001b[0;32m--> 365\u001b[0;31m             \u001b[0;32mraise\u001b[0m \u001b[0mValueError\u001b[0m\u001b[0;34m(\u001b[0m\u001b[0;34m\"Can only compare identically-labeled Series objects\"\u001b[0m\u001b[0;34m)\u001b[0m\u001b[0;34m\u001b[0m\u001b[0;34m\u001b[0m\u001b[0m\n\u001b[0m\u001b[1;32m    366\u001b[0m \u001b[0;34m\u001b[0m\u001b[0m\n\u001b[1;32m    367\u001b[0m         \u001b[0mlvalues\u001b[0m \u001b[0;34m=\u001b[0m \u001b[0mextract_array\u001b[0m\u001b[0;34m(\u001b[0m\u001b[0mself\u001b[0m\u001b[0;34m,\u001b[0m \u001b[0mextract_numpy\u001b[0m\u001b[0;34m=\u001b[0m\u001b[0;32mTrue\u001b[0m\u001b[0;34m)\u001b[0m\u001b[0;34m\u001b[0m\u001b[0;34m\u001b[0m\u001b[0m\n",
      "\u001b[0;31mValueError\u001b[0m: Can only compare identically-labeled Series objects"
     ]
    }
   ],
   "source": [
    "pesticides.fillna(0, inplace=True)\n",
    "for col in pesticides.columns:\n",
    "\n",
    "    if col in [\"REF....SUBSTANCE\", \"PERIOD\", \"Fungicide\", \"Insecticide\", \"Herbicide\", \"Other_pesticides\", \"LMR_Fungicide\", \"LMR_Insecticide\", \"LMR_Herbicide\", \"LMR_Other_pesticides\"]:\n",
    "        pass\n",
    "    else:\n",
    "        catgory = lmr_pest[lmr_pest[\"importName\"] == col][\"typeEN\"]\n",
    "        LMR = lmr_pest[lmr_pest[\"importName\"] == col][\"LMR\"]\n",
    "        filter_pest = pesticides[col] > 0\n",
    "        filter_pest_LMR = pesticides[col] > LMR\n",
    "        \n",
    "\n",
    "        if catgory in [\"herbicide\"]:\n",
    "            pesticides.loc[filter_pest, \"Herbicide\"] += 1\n",
    "            pesticides.loc[filter_pest_LMR, \"LMR_Herbicide\"] += 1\n",
    "            \n",
    "        if catgory in [\"insecticide\",'growth regulator, fungicide and insecticide','insecticide, molluscicide and bird repellent']:\n",
    "            pesticides.loc[filter_pest, \"Insecticide\"] += 1\n",
    "            pesticides.loc[filter_pest_LMR, \"LMR_Insecticide\"] += 1\n",
    "            \n",
    "        if catgory in [\"fungicide\",'growth regulator, fungicide and insecticide','fungicide and growth regulator']:\n",
    "            pesticides.loc[filter_pest, \"Fungicide\"] += 1\n",
    "            pesticides.loc[filter_pest_LMR, \"LMR_Fungicide\"] += 1\n",
    "            \n",
    "        if catgory in [\"bird repellant\",'growth regulator, fungicide and insecticide', 'insecticide, molluscicide and bird repellent', \"acaricide\", 'fungicide and growth regulator', 'growth regulator', np.nan ]:\n",
    "            pesticides.loc[filter_pest, \"Other_pesticides\"] += 1\n",
    "            pesticides.loc[filter_pest_LMR, \"LMR_Other_pesticides\"] += 1\n",
    "        "
   ]
  },
  {
   "cell_type": "code",
   "execution_count": null,
   "metadata": {},
   "outputs": [],
   "source": [
    "#array(['herbicide', 'insecticide', 'fungicide', 'bird repellant',\n",
    "#        'growth regulator, fungicide and insecticide',\n",
    "#        'insecticide, molluscicide and bird repellent', 'acaricide',\n",
    "#        'fungicide and growth regulator', 'growth regulator', nan],\n",
    "#       dtype=object)"
   ]
  },
  {
   "cell_type": "code",
   "execution_count": null,
   "metadata": {},
   "outputs": [],
   "source": [
    "df_pesticides = df_pesticides.sort_values([\"REF....SUBSTANCE\", \"PERIOD\"])"
   ]
  },
  {
   "cell_type": "code",
   "execution_count": null,
   "metadata": {
    "scrolled": true
   },
   "outputs": [],
   "source": [
    "df_pesticides[df_pesticides[\"REF....SUBSTANCE\"] == \"B0017\"].sum()"
   ]
  },
  {
   "cell_type": "code",
   "execution_count": null,
   "metadata": {},
   "outputs": [],
   "source": []
  },
  {
   "cell_type": "code",
   "execution_count": null,
   "metadata": {},
   "outputs": [],
   "source": [
    "plot_2017 = plt.subplots(figsize=(18,6))\n",
    "plt.bar(df_pesticides[\"REF....SUBSTANCE\"],df_pesticides[\"PERIOD\"])\n",
    "plt.xticks(rotation=90)\n",
    "plt.show()"
   ]
  },
  {
   "cell_type": "code",
   "execution_count": null,
   "metadata": {
    "scrolled": true
   },
   "outputs": [],
   "source": [
    "plot = plt.subplots(figsize=(18,6))\n",
    "plt.scatter(df_pesticides[\"REF....SUBSTANCE\"],df_pesticides[\"PERIOD\"])\n",
    "plt.xticks(rotation=90)\n",
    "plt.show()"
   ]
  },
  {
   "cell_type": "code",
   "execution_count": null,
   "metadata": {},
   "outputs": [],
   "source": [
    "df_pesticides[df_pesticides[\"REF....SUBSTANCE\"] == \"B0017\"]"
   ]
  },
  {
   "cell_type": "code",
   "execution_count": null,
   "metadata": {
    "scrolled": true
   },
   "outputs": [],
   "source": [
    "df_2017 = pd.concat([pest_2017_p1, pest_2017_p2, pest_2017_p3, pest_2017_p4])\n",
    "df_2017.sort_values([\"REF....SUBSTANCE\", \"PERIOD\"])\n",
    "df_2017.head()"
   ]
  },
  {
   "cell_type": "code",
   "execution_count": null,
   "metadata": {},
   "outputs": [],
   "source": [
    "plot_2017 = plt.subplots(figsize=(6,6))\n",
    "plt.bar(df_2017[\"REF....SUBSTANCE\"],df_2017[\"PERIOD\"])\n",
    "plt.xticks(rotation=90)\n",
    "plt.show()"
   ]
  },
  {
   "cell_type": "code",
   "execution_count": null,
   "metadata": {
    "scrolled": false
   },
   "outputs": [],
   "source": [
    "df_2018 = pd.concat([pest_2018_p1, pest_2018_p2, pest_2018_p3, pest_2018_p4])\n",
    "df_2018.sort_values([\"REF....SUBSTANCE\", \"PERIOD\"])\n",
    "df_2018.head()"
   ]
  },
  {
   "cell_type": "code",
   "execution_count": null,
   "metadata": {},
   "outputs": [],
   "source": [
    "plot_2018 = plt.subplots(figsize=(18,8))\n",
    "plt.bar(df_2018[\"REF....SUBSTANCE\"],df_2018[\"PERIOD\"])\n",
    "plt.xticks(rotation=90)\n",
    "plt.show()"
   ]
  },
  {
   "cell_type": "code",
   "execution_count": null,
   "metadata": {
    "scrolled": true
   },
   "outputs": [],
   "source": [
    "df_2018.shape"
   ]
  },
  {
   "cell_type": "code",
   "execution_count": null,
   "metadata": {
    "scrolled": true
   },
   "outputs": [],
   "source": [
    "df_2019 = pd.concat([pest_2019_p1, pest_2019_p2, pest_2019_p3, pest_2019_p4])\n",
    "df_2019.sort_values([\"REF....SUBSTANCE\", \"PERIOD\"])\n",
    "df_2019.head()"
   ]
  },
  {
   "cell_type": "code",
   "execution_count": null,
   "metadata": {},
   "outputs": [],
   "source": [
    "plot_2019 = plt.subplots(figsize=(18,8))\n",
    "plt.bar(df_2019[\"REF....SUBSTANCE\"],df_2019[\"PERIOD\"])\n",
    "plt.xticks(rotation=90)\n",
    "plt.show()"
   ]
  },
  {
   "cell_type": "code",
   "execution_count": null,
   "metadata": {},
   "outputs": [],
   "source": [
    "df_2019.shape"
   ]
  },
  {
   "cell_type": "code",
   "execution_count": null,
   "metadata": {
    "scrolled": false
   },
   "outputs": [],
   "source": [
    "df_2020 = pd.concat([pest_2020_p1, pest_2020_p2, pest_2020_p3, pest_2020_p4])\n",
    "df_2020.sort_values([\"REF....SUBSTANCE\", \"PERIOD\"])\n",
    "df_2020.head()"
   ]
  },
  {
   "cell_type": "code",
   "execution_count": null,
   "metadata": {},
   "outputs": [],
   "source": [
    "plot_2020 = plt.subplots(figsize=(18,8))\n",
    "plt.bar(df_2020[\"REF....SUBSTANCE\"],df_2020[\"PERIOD\"])\n",
    "plt.xticks(rotation=90)\n",
    "plt.show()"
   ]
  },
  {
   "cell_type": "code",
   "execution_count": null,
   "metadata": {},
   "outputs": [],
   "source": [
    "data_years = [df_2020,df_2019,df_2018,df_2017]\n",
    "years = [2020, 2019, 2018, 2017]\n",
    "for i,ii in zip(data_years, years) :\n",
    "    print(f\"the shape for {ii} is {i.shape}\")\n",
    "print(\"---------------------------------------------------\")\n",
    "\n",
    "\n",
    "print(f\"the shape for pest_2017_p1 {pest_2017_p1.shape}\")   \n",
    "print(f\"the shape for pest_2017_p2 {pest_2017_p2.shape}\")    \n",
    "print(f\"the shape for pest_2017_p3 {pest_2017_p3.shape}\")    \n",
    "print(f\"the shape for pest_2017_p4 {pest_2017_p4.shape}\")    \n",
    "print(\"---------------------------------------------------\")\n",
    "print(f\"the shape for pest_2018_p1 {pest_2018_p1.shape}\")   \n",
    "print(f\"the shape for pest_2018_p2 {pest_2018_p2.shape}\")    \n",
    "print(f\"the shape for pest_2018_p3 {pest_2018_p3.shape}\")    \n",
    "print(f\"the shape for pest_2018_p4 {pest_2018_p4.shape}\") \n",
    "print(\"---------------------------------------------------\")\n",
    "\n",
    "print(f\"the shape for pest_2019_p1 {pest_2019_p1.shape}\")   \n",
    "print(f\"the shape for pest_2019_p2 {pest_2019_p2.shape}\")    \n",
    "print(f\"the shape for pest_2019_p3 {pest_2019_p3.shape}\")    \n",
    "print(f\"the shape for pest_2019_p4 {pest_2019_p4.shape}\") \n",
    "print(\"---------------------------------------------------\")\n",
    "\n",
    "print(f\"the shape for pest_2020_p1 {pest_2020_p1.shape}\")   \n",
    "print(f\"the shape for pest_2020_p2 {pest_2020_p2.shape}\")    \n",
    "print(f\"the shape for pest_2020_p3 {pest_2020_p3.shape}\")    \n",
    "print(f\"the shape for pest_2020_p4 {pest_2020_p4.shape}\") "
   ]
  }
 ],
 "metadata": {
  "kernelspec": {
   "display_name": "Python 3",
   "language": "python",
   "name": "python3"
  },
  "language_info": {
   "codemirror_mode": {
    "name": "ipython",
    "version": 3
   },
   "file_extension": ".py",
   "mimetype": "text/x-python",
   "name": "python",
   "nbconvert_exporter": "python",
   "pygments_lexer": "ipython3",
   "version": "3.8.5"
  }
 },
 "nbformat": 4,
 "nbformat_minor": 4
}
