{
 "cells": [
  {
   "cell_type": "code",
   "execution_count": 1,
   "metadata": {
    "ExecuteTime": {
     "end_time": "2021-02-08T10:28:50.100328Z",
     "start_time": "2021-02-08T10:28:48.565717Z"
    }
   },
   "outputs": [],
   "source": [
    "import pandas as pd"
   ]
  },
  {
   "cell_type": "code",
   "execution_count": 2,
   "metadata": {
    "ExecuteTime": {
     "end_time": "2021-02-08T10:39:41.661946Z",
     "start_time": "2021-02-08T10:39:41.606871Z"
    }
   },
   "outputs": [],
   "source": [
    "df_p1 = pd.read_excel(\"../data/original/2020/HM/HM_2020_P1.xlsx\")\n",
    "df_p2 = pd.read_excel(\"../data/original/2020/HM/HM_2020_P2.xlsx\")\n",
    "df_p3 = pd.read_excel(\"../data/original/2020/HM/HM_2020_P3.xlsx\")\n",
    "df_p4 = pd.read_excel(\"../data/original/2020/HM/HM_2020_P4.xlsx\")"
   ]
  },
  {
   "cell_type": "code",
   "execution_count": 3,
   "metadata": {
    "ExecuteTime": {
     "end_time": "2021-02-08T10:40:06.462368Z",
     "start_time": "2021-02-08T10:40:06.441878Z"
    }
   },
   "outputs": [
    {
     "output_type": "execute_result",
     "data": {
      "text/plain": [
       "  REF....SUBSTANCE   PERIOD  Lead  Cadmium  Arsenic  Mercury  Copper  Chrome  \\\n",
       "0            B0012  2020/P1  0.88     0.29    0.048      0.0    11.0   0.140   \n",
       "1            B0017  2020/P1  0.14     0.42    0.000      0.0     7.9   0.066   \n",
       "2            B0019  2020/P1  0.15     0.68    0.000      0.0     7.6   0.071   \n",
       "3            B0021  2020/P1  0.16     0.47    0.000      0.0     7.3   0.082   \n",
       "4            B0023  2020/P1  0.21     0.73    0.030      0.0     8.1   0.081   \n",
       "\n",
       "   Zinc  \n",
       "0    51  \n",
       "1    45  \n",
       "2    46  \n",
       "3    40  \n",
       "4    48  "
      ],
      "text/html": "<div>\n<style scoped>\n    .dataframe tbody tr th:only-of-type {\n        vertical-align: middle;\n    }\n\n    .dataframe tbody tr th {\n        vertical-align: top;\n    }\n\n    .dataframe thead th {\n        text-align: right;\n    }\n</style>\n<table border=\"1\" class=\"dataframe\">\n  <thead>\n    <tr style=\"text-align: right;\">\n      <th></th>\n      <th>REF....SUBSTANCE</th>\n      <th>PERIOD</th>\n      <th>Lead</th>\n      <th>Cadmium</th>\n      <th>Arsenic</th>\n      <th>Mercury</th>\n      <th>Copper</th>\n      <th>Chrome</th>\n      <th>Zinc</th>\n    </tr>\n  </thead>\n  <tbody>\n    <tr>\n      <th>0</th>\n      <td>B0012</td>\n      <td>2020/P1</td>\n      <td>0.88</td>\n      <td>0.29</td>\n      <td>0.048</td>\n      <td>0.0</td>\n      <td>11.0</td>\n      <td>0.140</td>\n      <td>51</td>\n    </tr>\n    <tr>\n      <th>1</th>\n      <td>B0017</td>\n      <td>2020/P1</td>\n      <td>0.14</td>\n      <td>0.42</td>\n      <td>0.000</td>\n      <td>0.0</td>\n      <td>7.9</td>\n      <td>0.066</td>\n      <td>45</td>\n    </tr>\n    <tr>\n      <th>2</th>\n      <td>B0019</td>\n      <td>2020/P1</td>\n      <td>0.15</td>\n      <td>0.68</td>\n      <td>0.000</td>\n      <td>0.0</td>\n      <td>7.6</td>\n      <td>0.071</td>\n      <td>46</td>\n    </tr>\n    <tr>\n      <th>3</th>\n      <td>B0021</td>\n      <td>2020/P1</td>\n      <td>0.16</td>\n      <td>0.47</td>\n      <td>0.000</td>\n      <td>0.0</td>\n      <td>7.3</td>\n      <td>0.082</td>\n      <td>40</td>\n    </tr>\n    <tr>\n      <th>4</th>\n      <td>B0023</td>\n      <td>2020/P1</td>\n      <td>0.21</td>\n      <td>0.73</td>\n      <td>0.030</td>\n      <td>0.0</td>\n      <td>8.1</td>\n      <td>0.081</td>\n      <td>48</td>\n    </tr>\n  </tbody>\n</table>\n</div>"
     },
     "metadata": {},
     "execution_count": 3
    }
   ],
   "source": [
    "df_p1.head()"
   ]
  },
  {
   "cell_type": "code",
   "execution_count": 4,
   "metadata": {
    "ExecuteTime": {
     "end_time": "2021-02-08T10:40:08.495964Z",
     "start_time": "2021-02-08T10:40:08.482639Z"
    }
   },
   "outputs": [
    {
     "output_type": "execute_result",
     "data": {
      "text/plain": [
       "  REF....SUBSTANCE   PERIOD   Lead  Cadmium  Arsenic  Mercury  Copper  Chrome  \\\n",
       "0            B0012  2020/P2  0.650     0.23      0.0      0.0     8.7   0.110   \n",
       "1            B0017  2020/P2  0.085     0.13      0.0      0.0     6.8   0.046   \n",
       "2            B0019  2020/P2  0.099     0.26      0.0      0.0     8.3   0.052   \n",
       "3            B0021  2020/P2  0.120     0.11      0.0      0.0     8.7   0.066   \n",
       "4            B0023  2020/P2  0.084     0.26      0.0      0.0    10.0   0.036   \n",
       "\n",
       "   Zinc  \n",
       "0    48  \n",
       "1    30  \n",
       "2    31  \n",
       "3    28  \n",
       "4    41  "
      ],
      "text/html": "<div>\n<style scoped>\n    .dataframe tbody tr th:only-of-type {\n        vertical-align: middle;\n    }\n\n    .dataframe tbody tr th {\n        vertical-align: top;\n    }\n\n    .dataframe thead th {\n        text-align: right;\n    }\n</style>\n<table border=\"1\" class=\"dataframe\">\n  <thead>\n    <tr style=\"text-align: right;\">\n      <th></th>\n      <th>REF....SUBSTANCE</th>\n      <th>PERIOD</th>\n      <th>Lead</th>\n      <th>Cadmium</th>\n      <th>Arsenic</th>\n      <th>Mercury</th>\n      <th>Copper</th>\n      <th>Chrome</th>\n      <th>Zinc</th>\n    </tr>\n  </thead>\n  <tbody>\n    <tr>\n      <th>0</th>\n      <td>B0012</td>\n      <td>2020/P2</td>\n      <td>0.650</td>\n      <td>0.23</td>\n      <td>0.0</td>\n      <td>0.0</td>\n      <td>8.7</td>\n      <td>0.110</td>\n      <td>48</td>\n    </tr>\n    <tr>\n      <th>1</th>\n      <td>B0017</td>\n      <td>2020/P2</td>\n      <td>0.085</td>\n      <td>0.13</td>\n      <td>0.0</td>\n      <td>0.0</td>\n      <td>6.8</td>\n      <td>0.046</td>\n      <td>30</td>\n    </tr>\n    <tr>\n      <th>2</th>\n      <td>B0019</td>\n      <td>2020/P2</td>\n      <td>0.099</td>\n      <td>0.26</td>\n      <td>0.0</td>\n      <td>0.0</td>\n      <td>8.3</td>\n      <td>0.052</td>\n      <td>31</td>\n    </tr>\n    <tr>\n      <th>3</th>\n      <td>B0021</td>\n      <td>2020/P2</td>\n      <td>0.120</td>\n      <td>0.11</td>\n      <td>0.0</td>\n      <td>0.0</td>\n      <td>8.7</td>\n      <td>0.066</td>\n      <td>28</td>\n    </tr>\n    <tr>\n      <th>4</th>\n      <td>B0023</td>\n      <td>2020/P2</td>\n      <td>0.084</td>\n      <td>0.26</td>\n      <td>0.0</td>\n      <td>0.0</td>\n      <td>10.0</td>\n      <td>0.036</td>\n      <td>41</td>\n    </tr>\n  </tbody>\n</table>\n</div>"
     },
     "metadata": {},
     "execution_count": 4
    }
   ],
   "source": [
    "df_p2.head()"
   ]
  },
  {
   "cell_type": "code",
   "execution_count": 5,
   "metadata": {
    "ExecuteTime": {
     "end_time": "2021-02-08T10:40:13.601976Z",
     "start_time": "2021-02-08T10:40:13.590173Z"
    }
   },
   "outputs": [
    {
     "output_type": "execute_result",
     "data": {
      "text/plain": [
       "  REF....SUBSTANCE   PERIOD  Lead  Cadmium  Arsenic  Mercury  Copper  Chrome  \\\n",
       "0            B0012  2020/P3  0.89    0.160    0.059      0.0     7.2   0.140   \n",
       "1            B0017  2020/P3  0.13    0.045    0.039      0.0     6.9   0.060   \n",
       "2            B0019  2020/P3  0.12    0.160    0.055      0.0     6.5   0.066   \n",
       "3            B0021  2020/P3  0.16    0.260    0.067      0.0     6.6   0.073   \n",
       "4            B0023  2020/P3  0.17    0.260    0.042      0.0     8.0   0.077   \n",
       "\n",
       "   Zinc  \n",
       "0    43  \n",
       "1    30  \n",
       "2    29  \n",
       "3    30  \n",
       "4    31  "
      ],
      "text/html": "<div>\n<style scoped>\n    .dataframe tbody tr th:only-of-type {\n        vertical-align: middle;\n    }\n\n    .dataframe tbody tr th {\n        vertical-align: top;\n    }\n\n    .dataframe thead th {\n        text-align: right;\n    }\n</style>\n<table border=\"1\" class=\"dataframe\">\n  <thead>\n    <tr style=\"text-align: right;\">\n      <th></th>\n      <th>REF....SUBSTANCE</th>\n      <th>PERIOD</th>\n      <th>Lead</th>\n      <th>Cadmium</th>\n      <th>Arsenic</th>\n      <th>Mercury</th>\n      <th>Copper</th>\n      <th>Chrome</th>\n      <th>Zinc</th>\n    </tr>\n  </thead>\n  <tbody>\n    <tr>\n      <th>0</th>\n      <td>B0012</td>\n      <td>2020/P3</td>\n      <td>0.89</td>\n      <td>0.160</td>\n      <td>0.059</td>\n      <td>0.0</td>\n      <td>7.2</td>\n      <td>0.140</td>\n      <td>43</td>\n    </tr>\n    <tr>\n      <th>1</th>\n      <td>B0017</td>\n      <td>2020/P3</td>\n      <td>0.13</td>\n      <td>0.045</td>\n      <td>0.039</td>\n      <td>0.0</td>\n      <td>6.9</td>\n      <td>0.060</td>\n      <td>30</td>\n    </tr>\n    <tr>\n      <th>2</th>\n      <td>B0019</td>\n      <td>2020/P3</td>\n      <td>0.12</td>\n      <td>0.160</td>\n      <td>0.055</td>\n      <td>0.0</td>\n      <td>6.5</td>\n      <td>0.066</td>\n      <td>29</td>\n    </tr>\n    <tr>\n      <th>3</th>\n      <td>B0021</td>\n      <td>2020/P3</td>\n      <td>0.16</td>\n      <td>0.260</td>\n      <td>0.067</td>\n      <td>0.0</td>\n      <td>6.6</td>\n      <td>0.073</td>\n      <td>30</td>\n    </tr>\n    <tr>\n      <th>4</th>\n      <td>B0023</td>\n      <td>2020/P3</td>\n      <td>0.17</td>\n      <td>0.260</td>\n      <td>0.042</td>\n      <td>0.0</td>\n      <td>8.0</td>\n      <td>0.077</td>\n      <td>31</td>\n    </tr>\n  </tbody>\n</table>\n</div>"
     },
     "metadata": {},
     "execution_count": 5
    }
   ],
   "source": [
    "df_p3.head()"
   ]
  },
  {
   "cell_type": "code",
   "execution_count": 7,
   "metadata": {},
   "outputs": [
    {
     "output_type": "execute_result",
     "data": {
      "text/plain": [
       "  REF....SUBSTANCE   PERIOD   Lead  Cadmium  Arsenic  Mercury  Copper  Chrome  \\\n",
       "0            B0012  2020/P4  0.630    0.640    0.053      0.0     9.1   0.160   \n",
       "1            B0017  2020/P4  0.077    0.160    0.000      0.0     5.8   0.039   \n",
       "2            B0019  2020/P4  0.064    0.079    0.000      0.0     5.3   0.073   \n",
       "3            B0021  2020/P4  0.140    0.130    0.049      0.0     6.1   0.092   \n",
       "4            B0023  2020/P4  0.110    0.140    0.000      0.0     6.5   0.210   \n",
       "\n",
       "   Zinc  \n",
       "0    40  \n",
       "1    21  \n",
       "2    17  \n",
       "3    25  \n",
       "4    28  "
      ],
      "text/html": "<div>\n<style scoped>\n    .dataframe tbody tr th:only-of-type {\n        vertical-align: middle;\n    }\n\n    .dataframe tbody tr th {\n        vertical-align: top;\n    }\n\n    .dataframe thead th {\n        text-align: right;\n    }\n</style>\n<table border=\"1\" class=\"dataframe\">\n  <thead>\n    <tr style=\"text-align: right;\">\n      <th></th>\n      <th>REF....SUBSTANCE</th>\n      <th>PERIOD</th>\n      <th>Lead</th>\n      <th>Cadmium</th>\n      <th>Arsenic</th>\n      <th>Mercury</th>\n      <th>Copper</th>\n      <th>Chrome</th>\n      <th>Zinc</th>\n    </tr>\n  </thead>\n  <tbody>\n    <tr>\n      <th>0</th>\n      <td>B0012</td>\n      <td>2020/P4</td>\n      <td>0.630</td>\n      <td>0.640</td>\n      <td>0.053</td>\n      <td>0.0</td>\n      <td>9.1</td>\n      <td>0.160</td>\n      <td>40</td>\n    </tr>\n    <tr>\n      <th>1</th>\n      <td>B0017</td>\n      <td>2020/P4</td>\n      <td>0.077</td>\n      <td>0.160</td>\n      <td>0.000</td>\n      <td>0.0</td>\n      <td>5.8</td>\n      <td>0.039</td>\n      <td>21</td>\n    </tr>\n    <tr>\n      <th>2</th>\n      <td>B0019</td>\n      <td>2020/P4</td>\n      <td>0.064</td>\n      <td>0.079</td>\n      <td>0.000</td>\n      <td>0.0</td>\n      <td>5.3</td>\n      <td>0.073</td>\n      <td>17</td>\n    </tr>\n    <tr>\n      <th>3</th>\n      <td>B0021</td>\n      <td>2020/P4</td>\n      <td>0.140</td>\n      <td>0.130</td>\n      <td>0.049</td>\n      <td>0.0</td>\n      <td>6.1</td>\n      <td>0.092</td>\n      <td>25</td>\n    </tr>\n    <tr>\n      <th>4</th>\n      <td>B0023</td>\n      <td>2020/P4</td>\n      <td>0.110</td>\n      <td>0.140</td>\n      <td>0.000</td>\n      <td>0.0</td>\n      <td>6.5</td>\n      <td>0.210</td>\n      <td>28</td>\n    </tr>\n  </tbody>\n</table>\n</div>"
     },
     "metadata": {},
     "execution_count": 7
    }
   ],
   "source": [
    "df_p4.head()"
   ]
  },
  {
   "cell_type": "code",
   "execution_count": 8,
   "metadata": {},
   "outputs": [
    {
     "output_type": "execute_result",
     "data": {
      "text/plain": [
       "Index(['REF....SUBSTANCE', 'PERIOD', 'Lead', 'Cadmium', 'Arsenic', 'Mercury',\n",
       "       'Copper', 'Chrome', 'Zinc'],\n",
       "      dtype='object')"
      ]
     },
     "metadata": {},
     "execution_count": 8
    }
   ],
   "source": [
    "df_p1.columns"
   ]
  },
  {
   "cell_type": "code",
   "execution_count": null,
   "metadata": {},
   "outputs": [],
   "source": []
  }
 ],
 "metadata": {
  "kernelspec": {
   "name": "python3",
   "display_name": "Python 3.8.5 64-bit (conda)",
   "metadata": {
    "interpreter": {
     "hash": "851b9a2a0139d76d484de362587df6a3429c3e0845e019d00381867a3ec572ed"
    }
   }
  },
  "language_info": {
   "codemirror_mode": {
    "name": "ipython",
    "version": 3
   },
   "file_extension": ".py",
   "mimetype": "text/x-python",
   "name": "python",
   "nbconvert_exporter": "python",
   "pygments_lexer": "ipython3",
   "version": "3.8.5-final"
  }
 },
 "nbformat": 4,
 "nbformat_minor": 4
}