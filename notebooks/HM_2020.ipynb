{
 "cells": [
  {
   "cell_type": "code",
   "execution_count": 1,
   "metadata": {
    "ExecuteTime": {
     "end_time": "2021-02-08T10:28:50.100328Z",
     "start_time": "2021-02-08T10:28:48.565717Z"
    }
   },
   "outputs": [],
   "source": [
    "import pandas as pd"
   ]
  },
  {
   "cell_type": "code",
   "execution_count": 2,
   "metadata": {
    "ExecuteTime": {
     "end_time": "2021-02-08T10:39:41.661946Z",
     "start_time": "2021-02-08T10:39:41.606871Z"
    }
   },
   "outputs": [],
   "source": [
    "df_p1 = pd.read_excel(\"../data/original/2020/HM/HM_2020_P1.xlsx\")\n",
    "df_p2 = pd.read_excel(\"../data/original/2020/HM/HM_2020_P2.xlsx\")\n",
    "df_p3 = pd.read_excel(\"../data/original/2020/HM/HM_2020_P3.xlsx\")\n",
    "df_p4 = pd.read_excel(\"../data/original/2020/HM/HM_2020_P4.xlsx\")\n",
    "df = pd.concat([df_p1,df_p2,df_p3,df_p4])"
   ]
  },
  {
   "cell_type": "code",
   "execution_count": 12,
   "metadata": {
    "ExecuteTime": {
     "end_time": "2021-02-08T10:40:06.462368Z",
     "start_time": "2021-02-08T10:40:06.441878Z"
    }
   },
   "outputs": [],
   "source": [
    "df['SEASON'] = df['PERIOD'].str[-2:]"
   ]
  },
  {
   "cell_type": "code",
   "execution_count": 14,
   "metadata": {
    "ExecuteTime": {
     "end_time": "2021-02-08T10:40:08.495964Z",
     "start_time": "2021-02-08T10:40:08.482639Z"
    }
   },
   "outputs": [],
   "source": [
    "size = len(\"2020/P1\")\n",
    "df['PERIOD'] = df['PERIOD'].str[:size -3]"
   ]
  },
  {
   "cell_type": "code",
   "execution_count": 15,
   "metadata": {
    "ExecuteTime": {
     "end_time": "2021-02-08T10:40:13.601976Z",
     "start_time": "2021-02-08T10:40:13.590173Z"
    }
   },
   "outputs": [
    {
     "output_type": "execute_result",
     "data": {
      "text/plain": [
       "   REF....SUBSTANCE PERIOD   Lead  Cadmium  Arsenic  Mercury  Copper  Chrome  \\\n",
       "0             B0012   2020  0.880    0.290    0.048      0.0    11.0   0.140   \n",
       "1             B0017   2020  0.140    0.420    0.000      0.0     7.9   0.066   \n",
       "2             B0019   2020  0.150    0.680    0.000      0.0     7.6   0.071   \n",
       "3             B0021   2020  0.160    0.470    0.000      0.0     7.3   0.082   \n",
       "4             B0023   2020  0.210    0.730    0.030      0.0     8.1   0.081   \n",
       "..              ...    ...    ...      ...      ...      ...     ...     ...   \n",
       "19            F0035   2020  0.049    0.150    0.093      0.0     6.3   0.087   \n",
       "20            F0065   2020  1.400    0.085    0.081      0.0    11.0   0.340   \n",
       "21            F0067   2020  0.047    0.090    0.000      0.0     5.1   0.049   \n",
       "22            F0071   2020  0.000    0.075    0.035      0.0     5.0   0.056   \n",
       "23            F0073   2020  0.058    0.025    0.000      0.0     7.6   0.064   \n",
       "\n",
       "    Zinc SEASON  \n",
       "0     51     P1  \n",
       "1     45     P1  \n",
       "2     46     P1  \n",
       "3     40     P1  \n",
       "4     48     P1  \n",
       "..   ...    ...  \n",
       "19    54     P4  \n",
       "20    37     P4  \n",
       "21    21     P4  \n",
       "22    33     P4  \n",
       "23    34     P4  \n",
       "\n",
       "[151 rows x 10 columns]"
      ],
      "text/html": "<div>\n<style scoped>\n    .dataframe tbody tr th:only-of-type {\n        vertical-align: middle;\n    }\n\n    .dataframe tbody tr th {\n        vertical-align: top;\n    }\n\n    .dataframe thead th {\n        text-align: right;\n    }\n</style>\n<table border=\"1\" class=\"dataframe\">\n  <thead>\n    <tr style=\"text-align: right;\">\n      <th></th>\n      <th>REF....SUBSTANCE</th>\n      <th>PERIOD</th>\n      <th>Lead</th>\n      <th>Cadmium</th>\n      <th>Arsenic</th>\n      <th>Mercury</th>\n      <th>Copper</th>\n      <th>Chrome</th>\n      <th>Zinc</th>\n      <th>SEASON</th>\n    </tr>\n  </thead>\n  <tbody>\n    <tr>\n      <th>0</th>\n      <td>B0012</td>\n      <td>2020</td>\n      <td>0.880</td>\n      <td>0.290</td>\n      <td>0.048</td>\n      <td>0.0</td>\n      <td>11.0</td>\n      <td>0.140</td>\n      <td>51</td>\n      <td>P1</td>\n    </tr>\n    <tr>\n      <th>1</th>\n      <td>B0017</td>\n      <td>2020</td>\n      <td>0.140</td>\n      <td>0.420</td>\n      <td>0.000</td>\n      <td>0.0</td>\n      <td>7.9</td>\n      <td>0.066</td>\n      <td>45</td>\n      <td>P1</td>\n    </tr>\n    <tr>\n      <th>2</th>\n      <td>B0019</td>\n      <td>2020</td>\n      <td>0.150</td>\n      <td>0.680</td>\n      <td>0.000</td>\n      <td>0.0</td>\n      <td>7.6</td>\n      <td>0.071</td>\n      <td>46</td>\n      <td>P1</td>\n    </tr>\n    <tr>\n      <th>3</th>\n      <td>B0021</td>\n      <td>2020</td>\n      <td>0.160</td>\n      <td>0.470</td>\n      <td>0.000</td>\n      <td>0.0</td>\n      <td>7.3</td>\n      <td>0.082</td>\n      <td>40</td>\n      <td>P1</td>\n    </tr>\n    <tr>\n      <th>4</th>\n      <td>B0023</td>\n      <td>2020</td>\n      <td>0.210</td>\n      <td>0.730</td>\n      <td>0.030</td>\n      <td>0.0</td>\n      <td>8.1</td>\n      <td>0.081</td>\n      <td>48</td>\n      <td>P1</td>\n    </tr>\n    <tr>\n      <th>...</th>\n      <td>...</td>\n      <td>...</td>\n      <td>...</td>\n      <td>...</td>\n      <td>...</td>\n      <td>...</td>\n      <td>...</td>\n      <td>...</td>\n      <td>...</td>\n      <td>...</td>\n    </tr>\n    <tr>\n      <th>19</th>\n      <td>F0035</td>\n      <td>2020</td>\n      <td>0.049</td>\n      <td>0.150</td>\n      <td>0.093</td>\n      <td>0.0</td>\n      <td>6.3</td>\n      <td>0.087</td>\n      <td>54</td>\n      <td>P4</td>\n    </tr>\n    <tr>\n      <th>20</th>\n      <td>F0065</td>\n      <td>2020</td>\n      <td>1.400</td>\n      <td>0.085</td>\n      <td>0.081</td>\n      <td>0.0</td>\n      <td>11.0</td>\n      <td>0.340</td>\n      <td>37</td>\n      <td>P4</td>\n    </tr>\n    <tr>\n      <th>21</th>\n      <td>F0067</td>\n      <td>2020</td>\n      <td>0.047</td>\n      <td>0.090</td>\n      <td>0.000</td>\n      <td>0.0</td>\n      <td>5.1</td>\n      <td>0.049</td>\n      <td>21</td>\n      <td>P4</td>\n    </tr>\n    <tr>\n      <th>22</th>\n      <td>F0071</td>\n      <td>2020</td>\n      <td>0.000</td>\n      <td>0.075</td>\n      <td>0.035</td>\n      <td>0.0</td>\n      <td>5.0</td>\n      <td>0.056</td>\n      <td>33</td>\n      <td>P4</td>\n    </tr>\n    <tr>\n      <th>23</th>\n      <td>F0073</td>\n      <td>2020</td>\n      <td>0.058</td>\n      <td>0.025</td>\n      <td>0.000</td>\n      <td>0.0</td>\n      <td>7.6</td>\n      <td>0.064</td>\n      <td>34</td>\n      <td>P4</td>\n    </tr>\n  </tbody>\n</table>\n<p>151 rows × 10 columns</p>\n</div>"
     },
     "metadata": {},
     "execution_count": 15
    }
   ],
   "source": [
    "df"
   ]
  },
  {
   "cell_type": "code",
   "execution_count": 6,
   "metadata": {},
   "outputs": [
    {
     "output_type": "execute_result",
     "data": {
      "text/plain": [
       "  REF....SUBSTANCE   PERIOD   Lead  Cadmium  Arsenic  Mercury  Copper  Chrome  \\\n",
       "0            B0012  2020/P4  0.630    0.640    0.053      0.0     9.1   0.160   \n",
       "1            B0017  2020/P4  0.077    0.160    0.000      0.0     5.8   0.039   \n",
       "2            B0019  2020/P4  0.064    0.079    0.000      0.0     5.3   0.073   \n",
       "3            B0021  2020/P4  0.140    0.130    0.049      0.0     6.1   0.092   \n",
       "4            B0023  2020/P4  0.110    0.140    0.000      0.0     6.5   0.210   \n",
       "\n",
       "   Zinc  \n",
       "0    40  \n",
       "1    21  \n",
       "2    17  \n",
       "3    25  \n",
       "4    28  "
      ],
      "text/html": "<div>\n<style scoped>\n    .dataframe tbody tr th:only-of-type {\n        vertical-align: middle;\n    }\n\n    .dataframe tbody tr th {\n        vertical-align: top;\n    }\n\n    .dataframe thead th {\n        text-align: right;\n    }\n</style>\n<table border=\"1\" class=\"dataframe\">\n  <thead>\n    <tr style=\"text-align: right;\">\n      <th></th>\n      <th>REF....SUBSTANCE</th>\n      <th>PERIOD</th>\n      <th>Lead</th>\n      <th>Cadmium</th>\n      <th>Arsenic</th>\n      <th>Mercury</th>\n      <th>Copper</th>\n      <th>Chrome</th>\n      <th>Zinc</th>\n    </tr>\n  </thead>\n  <tbody>\n    <tr>\n      <th>0</th>\n      <td>B0012</td>\n      <td>2020/P4</td>\n      <td>0.630</td>\n      <td>0.640</td>\n      <td>0.053</td>\n      <td>0.0</td>\n      <td>9.1</td>\n      <td>0.160</td>\n      <td>40</td>\n    </tr>\n    <tr>\n      <th>1</th>\n      <td>B0017</td>\n      <td>2020/P4</td>\n      <td>0.077</td>\n      <td>0.160</td>\n      <td>0.000</td>\n      <td>0.0</td>\n      <td>5.8</td>\n      <td>0.039</td>\n      <td>21</td>\n    </tr>\n    <tr>\n      <th>2</th>\n      <td>B0019</td>\n      <td>2020/P4</td>\n      <td>0.064</td>\n      <td>0.079</td>\n      <td>0.000</td>\n      <td>0.0</td>\n      <td>5.3</td>\n      <td>0.073</td>\n      <td>17</td>\n    </tr>\n    <tr>\n      <th>3</th>\n      <td>B0021</td>\n      <td>2020/P4</td>\n      <td>0.140</td>\n      <td>0.130</td>\n      <td>0.049</td>\n      <td>0.0</td>\n      <td>6.1</td>\n      <td>0.092</td>\n      <td>25</td>\n    </tr>\n    <tr>\n      <th>4</th>\n      <td>B0023</td>\n      <td>2020/P4</td>\n      <td>0.110</td>\n      <td>0.140</td>\n      <td>0.000</td>\n      <td>0.0</td>\n      <td>6.5</td>\n      <td>0.210</td>\n      <td>28</td>\n    </tr>\n  </tbody>\n</table>\n</div>"
     },
     "metadata": {},
     "execution_count": 6
    }
   ],
   "source": [
    "df_p4.head()"
   ]
  },
  {
   "cell_type": "code",
   "execution_count": 7,
   "metadata": {},
   "outputs": [
    {
     "output_type": "execute_result",
     "data": {
      "text/plain": [
       "Index(['REF....SUBSTANCE', 'PERIOD', 'Lead', 'Cadmium', 'Arsenic', 'Mercury',\n",
       "       'Copper', 'Chrome', 'Zinc'],\n",
       "      dtype='object')"
      ]
     },
     "metadata": {},
     "execution_count": 7
    }
   ],
   "source": [
    "df_p1.columns"
   ]
  },
  {
   "cell_type": "code",
   "execution_count": null,
   "metadata": {},
   "outputs": [],
   "source": []
  }
 ],
 "metadata": {
  "kernelspec": {
   "name": "python3",
   "display_name": "Python 3.8.5 64-bit (conda)",
   "metadata": {
    "interpreter": {
     "hash": "851b9a2a0139d76d484de362587df6a3429c3e0845e019d00381867a3ec572ed"
    }
   }
  },
  "language_info": {
   "codemirror_mode": {
    "name": "ipython",
    "version": 3
   },
   "file_extension": ".py",
   "mimetype": "text/x-python",
   "name": "python",
   "nbconvert_exporter": "python",
   "pygments_lexer": "ipython3",
   "version": "3.8.5-final"
  }
 },
 "nbformat": 4,
 "nbformat_minor": 4
}