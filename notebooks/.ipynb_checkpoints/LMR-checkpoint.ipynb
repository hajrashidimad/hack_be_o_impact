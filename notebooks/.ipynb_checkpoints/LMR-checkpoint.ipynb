{
 "cells": [
  {
   "cell_type": "code",
   "execution_count": 1,
   "metadata": {
    "ExecuteTime": {
     "end_time": "2021-02-08T12:58:51.114672Z",
     "start_time": "2021-02-08T12:58:50.256803Z"
    }
   },
   "outputs": [],
   "source": [
    "import pandas as pd"
   ]
  },
  {
   "cell_type": "code",
   "execution_count": 2,
   "metadata": {
    "ExecuteTime": {
     "end_time": "2021-02-08T12:58:51.714524Z",
     "start_time": "2021-02-08T12:58:51.121559Z"
    }
   },
   "outputs": [],
   "source": [
    "lmr_pest = pd.read_excel(\"../data/original/pesticides.xlsx\")\n",
    "lmr_hm = pd.read_csv(\"../data/original/LMR.txt\", sep=\"\\t\")"
   ]
  },
  {
   "cell_type": "code",
   "execution_count": 3,
   "metadata": {
    "ExecuteTime": {
     "end_time": "2021-02-08T12:58:51.763416Z",
     "start_time": "2021-02-08T12:58:51.717048Z"
    }
   },
   "outputs": [
    {
     "data": {
      "text/html": [
       "<div>\n",
       "<style scoped>\n",
       "    .dataframe tbody tr th:only-of-type {\n",
       "        vertical-align: middle;\n",
       "    }\n",
       "\n",
       "    .dataframe tbody tr th {\n",
       "        vertical-align: top;\n",
       "    }\n",
       "\n",
       "    .dataframe thead th {\n",
       "        text-align: right;\n",
       "    }\n",
       "</style>\n",
       "<table border=\"1\" class=\"dataframe\">\n",
       "  <thead>\n",
       "    <tr style=\"text-align: right;\">\n",
       "      <th></th>\n",
       "      <th>importName</th>\n",
       "      <th>name</th>\n",
       "      <th>statusEN</th>\n",
       "      <th>LMR</th>\n",
       "      <th>familyEN</th>\n",
       "      <th>typeEN</th>\n",
       "    </tr>\n",
       "  </thead>\n",
       "  <tbody>\n",
       "    <tr>\n",
       "      <th>0</th>\n",
       "      <td>Aclonifen</td>\n",
       "      <td>aclonifen</td>\n",
       "      <td>authorized</td>\n",
       "      <td>0.05</td>\n",
       "      <td>diphenyl ether</td>\n",
       "      <td>herbicide</td>\n",
       "    </tr>\n",
       "    <tr>\n",
       "      <th>1</th>\n",
       "      <td>Aldrin</td>\n",
       "      <td>aldrin</td>\n",
       "      <td>prohibited</td>\n",
       "      <td>0.01</td>\n",
       "      <td>organochlorine</td>\n",
       "      <td>insecticide</td>\n",
       "    </tr>\n",
       "    <tr>\n",
       "      <th>2</th>\n",
       "      <td>Ametoctradin</td>\n",
       "      <td>ametoctradin</td>\n",
       "      <td>authorized</td>\n",
       "      <td>0.05</td>\n",
       "      <td>triazolopyrimidine</td>\n",
       "      <td>fungicide</td>\n",
       "    </tr>\n",
       "    <tr>\n",
       "      <th>3</th>\n",
       "      <td>Anthraquinone</td>\n",
       "      <td>anthraquinone</td>\n",
       "      <td>prohibited</td>\n",
       "      <td>0.02</td>\n",
       "      <td>polycyclic aromatic hydrocarbon</td>\n",
       "      <td>bird repellant</td>\n",
       "    </tr>\n",
       "    <tr>\n",
       "      <th>4</th>\n",
       "      <td>Azoxystrobin</td>\n",
       "      <td>azoxystrobin</td>\n",
       "      <td>authorized</td>\n",
       "      <td>0.05</td>\n",
       "      <td>strobilurin</td>\n",
       "      <td>fungicide</td>\n",
       "    </tr>\n",
       "  </tbody>\n",
       "</table>\n",
       "</div>"
      ],
      "text/plain": [
       "      importName           name    statusEN   LMR  \\\n",
       "0      Aclonifen      aclonifen  authorized  0.05   \n",
       "1         Aldrin         aldrin  prohibited  0.01   \n",
       "2   Ametoctradin   ametoctradin  authorized  0.05   \n",
       "3  Anthraquinone  anthraquinone  prohibited  0.02   \n",
       "4   Azoxystrobin   azoxystrobin  authorized  0.05   \n",
       "\n",
       "                          familyEN          typeEN  \n",
       "0                   diphenyl ether       herbicide  \n",
       "1                   organochlorine     insecticide  \n",
       "2               triazolopyrimidine       fungicide  \n",
       "3  polycyclic aromatic hydrocarbon  bird repellant  \n",
       "4                      strobilurin       fungicide  "
      ]
     },
     "execution_count": 3,
     "metadata": {},
     "output_type": "execute_result"
    }
   ],
   "source": [
    "lmr_pest.head()"
   ]
  },
  {
   "cell_type": "code",
   "execution_count": 4,
   "metadata": {
    "ExecuteTime": {
     "end_time": "2021-02-08T12:58:51.819225Z",
     "start_time": "2021-02-08T12:58:51.787151Z"
    }
   },
   "outputs": [
    {
     "data": {
      "text/html": [
       "<div>\n",
       "<style scoped>\n",
       "    .dataframe tbody tr th:only-of-type {\n",
       "        vertical-align: middle;\n",
       "    }\n",
       "\n",
       "    .dataframe tbody tr th {\n",
       "        vertical-align: top;\n",
       "    }\n",
       "\n",
       "    .dataframe thead th {\n",
       "        text-align: right;\n",
       "    }\n",
       "</style>\n",
       "<table border=\"1\" class=\"dataframe\">\n",
       "  <thead>\n",
       "    <tr style=\"text-align: right;\">\n",
       "      <th></th>\n",
       "      <th>Lead</th>\n",
       "      <th>Cadmium</th>\n",
       "      <th>Arsenic</th>\n",
       "      <th>Mercury</th>\n",
       "      <th>Copper</th>\n",
       "      <th>Chrome</th>\n",
       "      <th>Zinc</th>\n",
       "      <th>Unnamed: 7</th>\n",
       "    </tr>\n",
       "  </thead>\n",
       "  <tbody>\n",
       "    <tr>\n",
       "      <th>0</th>\n",
       "      <td>1.5</td>\n",
       "      <td>1</td>\n",
       "      <td>0.3</td>\n",
       "      <td>1</td>\n",
       "      <td>30</td>\n",
       "      <td>NaN</td>\n",
       "      <td>NaN</td>\n",
       "      <td>NaN</td>\n",
       "    </tr>\n",
       "  </tbody>\n",
       "</table>\n",
       "</div>"
      ],
      "text/plain": [
       "   Lead  Cadmium  Arsenic  Mercury  Copper  Chrome  Zinc  Unnamed: 7\n",
       "0   1.5        1      0.3        1      30     NaN   NaN         NaN"
      ]
     },
     "execution_count": 4,
     "metadata": {},
     "output_type": "execute_result"
    }
   ],
   "source": [
    "lmr_hm.head()"
   ]
  }
 ],
 "metadata": {
  "kernelspec": {
   "display_name": "base",
   "language": "python",
   "name": "base"
  },
  "language_info": {
   "codemirror_mode": {
    "name": "ipython",
    "version": 3
   },
   "file_extension": ".py",
   "mimetype": "text/x-python",
   "name": "python",
   "nbconvert_exporter": "python",
   "pygments_lexer": "ipython3",
   "version": "3.8.5"
  }
 },
 "nbformat": 4,
 "nbformat_minor": 4
}
