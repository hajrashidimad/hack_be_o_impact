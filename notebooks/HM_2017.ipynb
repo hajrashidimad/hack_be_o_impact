{
 "cells": [
  {
   "cell_type": "code",
   "execution_count": 1,
   "metadata": {
    "ExecuteTime": {
     "end_time": "2021-02-08T10:28:50.100328Z",
     "start_time": "2021-02-08T10:28:48.565717Z"
    }
   },
   "outputs": [],
   "source": [
    "import pandas as pd"
   ]
  },
  {
   "cell_type": "code",
   "execution_count": 2,
   "metadata": {
    "ExecuteTime": {
     "end_time": "2021-02-08T10:39:41.661946Z",
     "start_time": "2021-02-08T10:39:41.606871Z"
    }
   },
   "outputs": [],
   "source": [
    "df_p1 = pd.read_excel(\"../data/original/2017/HM/HM_2017_P1.xlsx\")\n",
    "df_p2 = pd.read_excel(\"../data/original/2017/HM/HM_2017_P2.xlsx\")\n",
    "df_p3 = pd.read_excel(\"../data/original/2017/HM/HM_2017_P3.xlsx\")\n",
    "df_p4 = pd.read_excel(\"../data/original/2017/HM/HM_2017_P4.xlsx\")"
   ]
  },
  {
   "cell_type": "code",
   "execution_count": 3,
   "metadata": {
    "ExecuteTime": {
     "end_time": "2021-02-08T10:40:06.462368Z",
     "start_time": "2021-02-08T10:40:06.441878Z"
    }
   },
   "outputs": [
    {
     "output_type": "execute_result",
     "data": {
      "text/plain": [
       "  REF....SUBSTANCE   PERIOD   Lead  Cadmium  Arsenic  Mercury  Copper  Chrome  \\\n",
       "0            B0017  2018/P1  0.074     0.29    0.037      0.0     6.4   0.051   \n",
       "1            B0019  2018/P1  0.073     0.78    0.000      0.0     4.4   0.061   \n",
       "2            B0021  2018/P1  0.047     2.10    0.000      0.0     4.2   0.024   \n",
       "3            B0023  2018/P1  0.060     0.30    0.000      0.0     7.4   0.035   \n",
       "4            B0032  2018/P1  0.140     0.21    0.000      0.0     6.0   0.055   \n",
       "\n",
       "   Zinc  \n",
       "0    37  \n",
       "1    45  \n",
       "2    53  \n",
       "3    43  \n",
       "4    41  "
      ],
      "text/html": "<div>\n<style scoped>\n    .dataframe tbody tr th:only-of-type {\n        vertical-align: middle;\n    }\n\n    .dataframe tbody tr th {\n        vertical-align: top;\n    }\n\n    .dataframe thead th {\n        text-align: right;\n    }\n</style>\n<table border=\"1\" class=\"dataframe\">\n  <thead>\n    <tr style=\"text-align: right;\">\n      <th></th>\n      <th>REF....SUBSTANCE</th>\n      <th>PERIOD</th>\n      <th>Lead</th>\n      <th>Cadmium</th>\n      <th>Arsenic</th>\n      <th>Mercury</th>\n      <th>Copper</th>\n      <th>Chrome</th>\n      <th>Zinc</th>\n    </tr>\n  </thead>\n  <tbody>\n    <tr>\n      <th>0</th>\n      <td>B0017</td>\n      <td>2018/P1</td>\n      <td>0.074</td>\n      <td>0.29</td>\n      <td>0.037</td>\n      <td>0.0</td>\n      <td>6.4</td>\n      <td>0.051</td>\n      <td>37</td>\n    </tr>\n    <tr>\n      <th>1</th>\n      <td>B0019</td>\n      <td>2018/P1</td>\n      <td>0.073</td>\n      <td>0.78</td>\n      <td>0.000</td>\n      <td>0.0</td>\n      <td>4.4</td>\n      <td>0.061</td>\n      <td>45</td>\n    </tr>\n    <tr>\n      <th>2</th>\n      <td>B0021</td>\n      <td>2018/P1</td>\n      <td>0.047</td>\n      <td>2.10</td>\n      <td>0.000</td>\n      <td>0.0</td>\n      <td>4.2</td>\n      <td>0.024</td>\n      <td>53</td>\n    </tr>\n    <tr>\n      <th>3</th>\n      <td>B0023</td>\n      <td>2018/P1</td>\n      <td>0.060</td>\n      <td>0.30</td>\n      <td>0.000</td>\n      <td>0.0</td>\n      <td>7.4</td>\n      <td>0.035</td>\n      <td>43</td>\n    </tr>\n    <tr>\n      <th>4</th>\n      <td>B0032</td>\n      <td>2018/P1</td>\n      <td>0.140</td>\n      <td>0.21</td>\n      <td>0.000</td>\n      <td>0.0</td>\n      <td>6.0</td>\n      <td>0.055</td>\n      <td>41</td>\n    </tr>\n  </tbody>\n</table>\n</div>"
     },
     "metadata": {},
     "execution_count": 3
    }
   ],
   "source": [
    "df_p1.head()"
   ]
  },
  {
   "cell_type": "code",
   "execution_count": 4,
   "metadata": {
    "ExecuteTime": {
     "end_time": "2021-02-08T10:40:08.495964Z",
     "start_time": "2021-02-08T10:40:08.482639Z"
    }
   },
   "outputs": [
    {
     "output_type": "execute_result",
     "data": {
      "text/plain": [
       "  REF....SUBSTANCE   PERIOD  Lead  Cadmium  Arsenic  Mercury  Copper  Chrome  \\\n",
       "0            B0017  2018/P2  0.12    0.190    0.000        0     7.4   0.046   \n",
       "1            B0019  2018/P2  0.13    0.026    0.051        0     8.1   0.110   \n",
       "2            B0021  2018/P2  0.20    0.410    0.039        0     9.1   0.074   \n",
       "3            B0023  2018/P2  0.16    0.430    0.000        0     8.9   0.060   \n",
       "4            B0032  2018/P2  0.24    0.033    0.033        0     4.0   0.110   \n",
       "\n",
       "   Zinc  \n",
       "0    50  \n",
       "1    42  \n",
       "2    41  \n",
       "3    38  \n",
       "4    32  "
      ],
      "text/html": "<div>\n<style scoped>\n    .dataframe tbody tr th:only-of-type {\n        vertical-align: middle;\n    }\n\n    .dataframe tbody tr th {\n        vertical-align: top;\n    }\n\n    .dataframe thead th {\n        text-align: right;\n    }\n</style>\n<table border=\"1\" class=\"dataframe\">\n  <thead>\n    <tr style=\"text-align: right;\">\n      <th></th>\n      <th>REF....SUBSTANCE</th>\n      <th>PERIOD</th>\n      <th>Lead</th>\n      <th>Cadmium</th>\n      <th>Arsenic</th>\n      <th>Mercury</th>\n      <th>Copper</th>\n      <th>Chrome</th>\n      <th>Zinc</th>\n    </tr>\n  </thead>\n  <tbody>\n    <tr>\n      <th>0</th>\n      <td>B0017</td>\n      <td>2018/P2</td>\n      <td>0.12</td>\n      <td>0.190</td>\n      <td>0.000</td>\n      <td>0</td>\n      <td>7.4</td>\n      <td>0.046</td>\n      <td>50</td>\n    </tr>\n    <tr>\n      <th>1</th>\n      <td>B0019</td>\n      <td>2018/P2</td>\n      <td>0.13</td>\n      <td>0.026</td>\n      <td>0.051</td>\n      <td>0</td>\n      <td>8.1</td>\n      <td>0.110</td>\n      <td>42</td>\n    </tr>\n    <tr>\n      <th>2</th>\n      <td>B0021</td>\n      <td>2018/P2</td>\n      <td>0.20</td>\n      <td>0.410</td>\n      <td>0.039</td>\n      <td>0</td>\n      <td>9.1</td>\n      <td>0.074</td>\n      <td>41</td>\n    </tr>\n    <tr>\n      <th>3</th>\n      <td>B0023</td>\n      <td>2018/P2</td>\n      <td>0.16</td>\n      <td>0.430</td>\n      <td>0.000</td>\n      <td>0</td>\n      <td>8.9</td>\n      <td>0.060</td>\n      <td>38</td>\n    </tr>\n    <tr>\n      <th>4</th>\n      <td>B0032</td>\n      <td>2018/P2</td>\n      <td>0.24</td>\n      <td>0.033</td>\n      <td>0.033</td>\n      <td>0</td>\n      <td>4.0</td>\n      <td>0.110</td>\n      <td>32</td>\n    </tr>\n  </tbody>\n</table>\n</div>"
     },
     "metadata": {},
     "execution_count": 4
    }
   ],
   "source": [
    "df_p2.head()"
   ]
  },
  {
   "cell_type": "code",
   "execution_count": 5,
   "metadata": {
    "ExecuteTime": {
     "end_time": "2021-02-08T10:40:13.601976Z",
     "start_time": "2021-02-08T10:40:13.590173Z"
    }
   },
   "outputs": [
    {
     "output_type": "execute_result",
     "data": {
      "text/plain": [
       "  REF....SUBSTANCE   PERIOD  Lead  Cadmium  Arsenic  Mercury  Copper  Chrome  \\\n",
       "0            B0017  2018/P3  0.11    0.079    0.054      0.0     5.2   0.047   \n",
       "1            B0019  2018/P3  0.13    0.022    0.091      0.0     6.4   0.052   \n",
       "2            B0021  2018/P3  0.34    0.280    0.080      0.0     8.5   0.110   \n",
       "3            B0023  2018/P3  0.16    0.290    0.067      0.0     8.0   0.069   \n",
       "4            B0032  2018/P3  0.16    0.080    0.045      0.0     5.7   0.079   \n",
       "\n",
       "   Zinc  \n",
       "0    30  \n",
       "1    32  \n",
       "2    33  \n",
       "3    33  \n",
       "4    25  "
      ],
      "text/html": "<div>\n<style scoped>\n    .dataframe tbody tr th:only-of-type {\n        vertical-align: middle;\n    }\n\n    .dataframe tbody tr th {\n        vertical-align: top;\n    }\n\n    .dataframe thead th {\n        text-align: right;\n    }\n</style>\n<table border=\"1\" class=\"dataframe\">\n  <thead>\n    <tr style=\"text-align: right;\">\n      <th></th>\n      <th>REF....SUBSTANCE</th>\n      <th>PERIOD</th>\n      <th>Lead</th>\n      <th>Cadmium</th>\n      <th>Arsenic</th>\n      <th>Mercury</th>\n      <th>Copper</th>\n      <th>Chrome</th>\n      <th>Zinc</th>\n    </tr>\n  </thead>\n  <tbody>\n    <tr>\n      <th>0</th>\n      <td>B0017</td>\n      <td>2018/P3</td>\n      <td>0.11</td>\n      <td>0.079</td>\n      <td>0.054</td>\n      <td>0.0</td>\n      <td>5.2</td>\n      <td>0.047</td>\n      <td>30</td>\n    </tr>\n    <tr>\n      <th>1</th>\n      <td>B0019</td>\n      <td>2018/P3</td>\n      <td>0.13</td>\n      <td>0.022</td>\n      <td>0.091</td>\n      <td>0.0</td>\n      <td>6.4</td>\n      <td>0.052</td>\n      <td>32</td>\n    </tr>\n    <tr>\n      <th>2</th>\n      <td>B0021</td>\n      <td>2018/P3</td>\n      <td>0.34</td>\n      <td>0.280</td>\n      <td>0.080</td>\n      <td>0.0</td>\n      <td>8.5</td>\n      <td>0.110</td>\n      <td>33</td>\n    </tr>\n    <tr>\n      <th>3</th>\n      <td>B0023</td>\n      <td>2018/P3</td>\n      <td>0.16</td>\n      <td>0.290</td>\n      <td>0.067</td>\n      <td>0.0</td>\n      <td>8.0</td>\n      <td>0.069</td>\n      <td>33</td>\n    </tr>\n    <tr>\n      <th>4</th>\n      <td>B0032</td>\n      <td>2018/P3</td>\n      <td>0.16</td>\n      <td>0.080</td>\n      <td>0.045</td>\n      <td>0.0</td>\n      <td>5.7</td>\n      <td>0.079</td>\n      <td>25</td>\n    </tr>\n  </tbody>\n</table>\n</div>"
     },
     "metadata": {},
     "execution_count": 5
    }
   ],
   "source": [
    "df_p3.head()"
   ]
  },
  {
   "cell_type": "code",
   "execution_count": 6,
   "metadata": {},
   "outputs": [
    {
     "output_type": "execute_result",
     "data": {
      "text/plain": [
       "  REF....SUBSTANCE   PERIOD   Lead  Cadmium  Arsenic  Mercury  Copper  Chrome  \\\n",
       "0            B0019  2018/P4  0.450     0.87    0.088    0.005    10.0   0.150   \n",
       "1            B0021  2018/P4  0.370     0.42    0.053    0.000    16.0   0.056   \n",
       "2            B0023  2018/P4  0.110     0.12    0.000    0.000     7.2   0.094   \n",
       "3            B0032  2018/P4  0.077     0.47    0.000    0.000     8.0   0.045   \n",
       "4            B0061  2018/P4  0.140     0.54    0.040    0.000     7.7   0.120   \n",
       "\n",
       "   Zinc  \n",
       "0    84  \n",
       "1    48  \n",
       "2    31  \n",
       "3    42  \n",
       "4    35  "
      ],
      "text/html": "<div>\n<style scoped>\n    .dataframe tbody tr th:only-of-type {\n        vertical-align: middle;\n    }\n\n    .dataframe tbody tr th {\n        vertical-align: top;\n    }\n\n    .dataframe thead th {\n        text-align: right;\n    }\n</style>\n<table border=\"1\" class=\"dataframe\">\n  <thead>\n    <tr style=\"text-align: right;\">\n      <th></th>\n      <th>REF....SUBSTANCE</th>\n      <th>PERIOD</th>\n      <th>Lead</th>\n      <th>Cadmium</th>\n      <th>Arsenic</th>\n      <th>Mercury</th>\n      <th>Copper</th>\n      <th>Chrome</th>\n      <th>Zinc</th>\n    </tr>\n  </thead>\n  <tbody>\n    <tr>\n      <th>0</th>\n      <td>B0019</td>\n      <td>2018/P4</td>\n      <td>0.450</td>\n      <td>0.87</td>\n      <td>0.088</td>\n      <td>0.005</td>\n      <td>10.0</td>\n      <td>0.150</td>\n      <td>84</td>\n    </tr>\n    <tr>\n      <th>1</th>\n      <td>B0021</td>\n      <td>2018/P4</td>\n      <td>0.370</td>\n      <td>0.42</td>\n      <td>0.053</td>\n      <td>0.000</td>\n      <td>16.0</td>\n      <td>0.056</td>\n      <td>48</td>\n    </tr>\n    <tr>\n      <th>2</th>\n      <td>B0023</td>\n      <td>2018/P4</td>\n      <td>0.110</td>\n      <td>0.12</td>\n      <td>0.000</td>\n      <td>0.000</td>\n      <td>7.2</td>\n      <td>0.094</td>\n      <td>31</td>\n    </tr>\n    <tr>\n      <th>3</th>\n      <td>B0032</td>\n      <td>2018/P4</td>\n      <td>0.077</td>\n      <td>0.47</td>\n      <td>0.000</td>\n      <td>0.000</td>\n      <td>8.0</td>\n      <td>0.045</td>\n      <td>42</td>\n    </tr>\n    <tr>\n      <th>4</th>\n      <td>B0061</td>\n      <td>2018/P4</td>\n      <td>0.140</td>\n      <td>0.54</td>\n      <td>0.040</td>\n      <td>0.000</td>\n      <td>7.7</td>\n      <td>0.120</td>\n      <td>35</td>\n    </tr>\n  </tbody>\n</table>\n</div>"
     },
     "metadata": {},
     "execution_count": 6
    }
   ],
   "source": [
    "df_p4.head()"
   ]
  },
  {
   "cell_type": "code",
   "execution_count": 7,
   "metadata": {},
   "outputs": [
    {
     "output_type": "execute_result",
     "data": {
      "text/plain": [
       "Index(['REF....SUBSTANCE', 'PERIOD', 'Lead', 'Cadmium', 'Arsenic', 'Mercury',\n",
       "       'Copper', 'Chrome', 'Zinc'],\n",
       "      dtype='object')"
      ]
     },
     "metadata": {},
     "execution_count": 7
    }
   ],
   "source": [
    "df_p1.columns"
   ]
  },
  {
   "cell_type": "code",
   "execution_count": 7,
   "metadata": {},
   "outputs": [],
   "source": [
    " "
   ]
  },
  {
   "cell_type": "code",
   "execution_count": null,
   "metadata": {},
   "outputs": [],
   "source": []
  }
 ],
 "metadata": {
  "kernelspec": {
   "name": "python3",
   "display_name": "Python 3.8.5 64-bit (conda)",
   "metadata": {
    "interpreter": {
     "hash": "851b9a2a0139d76d484de362587df6a3429c3e0845e019d00381867a3ec572ed"
    }
   }
  },
  "language_info": {
   "codemirror_mode": {
    "name": "ipython",
    "version": 3
   },
   "file_extension": ".py",
   "mimetype": "text/x-python",
   "name": "python",
   "nbconvert_exporter": "python",
   "pygments_lexer": "ipython3",
   "version": "3.8.5-final"
  }
 },
 "nbformat": 4,
 "nbformat_minor": 4
}