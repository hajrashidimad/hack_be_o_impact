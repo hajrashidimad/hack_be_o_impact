{
 "cells": [
  {
   "cell_type": "code",
   "execution_count": 13,
   "metadata": {
    "ExecuteTime": {
     "end_time": "2021-02-08T16:10:08.353544Z",
     "start_time": "2021-02-08T16:10:08.345994Z"
    }
   },
   "outputs": [],
   "source": [
    "import pandas as pd\n",
    "import numpy as np"
   ]
  },
  {
   "cell_type": "code",
   "execution_count": 2,
   "metadata": {
    "ExecuteTime": {
     "end_time": "2021-02-08T13:04:21.259486Z",
     "start_time": "2021-02-08T13:04:20.587432Z"
    }
   },
   "outputs": [],
   "source": [
    "distsOneSheet = pd.read_excel(\"../data/original/distsOneSheet.xlsx\")"
   ]
  },
  {
   "cell_type": "code",
   "execution_count": 3,
   "metadata": {
    "ExecuteTime": {
     "end_time": "2021-02-08T13:04:21.292789Z",
     "start_time": "2021-02-08T13:04:21.264380Z"
    }
   },
   "outputs": [
    {
     "data": {
      "text/html": [
       "<div>\n",
       "<style scoped>\n",
       "    .dataframe tbody tr th:only-of-type {\n",
       "        vertical-align: middle;\n",
       "    }\n",
       "\n",
       "    .dataframe tbody tr th {\n",
       "        vertical-align: top;\n",
       "    }\n",
       "\n",
       "    .dataframe thead th {\n",
       "        text-align: right;\n",
       "    }\n",
       "</style>\n",
       "<table border=\"1\" class=\"dataframe\">\n",
       "  <thead>\n",
       "    <tr style=\"text-align: right;\">\n",
       "      <th></th>\n",
       "      <th>Site</th>\n",
       "      <th>polyID</th>\n",
       "      <th>classCLC</th>\n",
       "      <th>dist</th>\n",
       "    </tr>\n",
       "  </thead>\n",
       "  <tbody>\n",
       "    <tr>\n",
       "      <th>0</th>\n",
       "      <td>F0069</td>\n",
       "      <td>FR-88090</td>\n",
       "      <td>231</td>\n",
       "      <td>1183.022362</td>\n",
       "    </tr>\n",
       "    <tr>\n",
       "      <th>1</th>\n",
       "      <td>F0069</td>\n",
       "      <td>FR-131773</td>\n",
       "      <td>242</td>\n",
       "      <td>289.926324</td>\n",
       "    </tr>\n",
       "    <tr>\n",
       "      <th>2</th>\n",
       "      <td>F0069</td>\n",
       "      <td>FR-46167</td>\n",
       "      <td>211</td>\n",
       "      <td>221.344153</td>\n",
       "    </tr>\n",
       "    <tr>\n",
       "      <th>3</th>\n",
       "      <td>F0069</td>\n",
       "      <td>FR-11047</td>\n",
       "      <td>112</td>\n",
       "      <td>1038.383069</td>\n",
       "    </tr>\n",
       "    <tr>\n",
       "      <th>4</th>\n",
       "      <td>F0069</td>\n",
       "      <td>FR-195343</td>\n",
       "      <td>311</td>\n",
       "      <td>724.045683</td>\n",
       "    </tr>\n",
       "  </tbody>\n",
       "</table>\n",
       "</div>"
      ],
      "text/plain": [
       "    Site     polyID  classCLC         dist\n",
       "0  F0069   FR-88090       231  1183.022362\n",
       "1  F0069  FR-131773       242   289.926324\n",
       "2  F0069   FR-46167       211   221.344153\n",
       "3  F0069   FR-11047       112  1038.383069\n",
       "4  F0069  FR-195343       311   724.045683"
      ]
     },
     "execution_count": 3,
     "metadata": {},
     "output_type": "execute_result"
    }
   ],
   "source": [
    "distsOneSheet.head()"
   ]
  },
  {
   "cell_type": "code",
   "execution_count": 5,
   "metadata": {
    "ExecuteTime": {
     "end_time": "2021-02-08T14:51:49.772217Z",
     "start_time": "2021-02-08T14:51:49.734559Z"
    }
   },
   "outputs": [
    {
     "data": {
      "text/html": [
       "<div>\n",
       "<style scoped>\n",
       "    .dataframe tbody tr th:only-of-type {\n",
       "        vertical-align: middle;\n",
       "    }\n",
       "\n",
       "    .dataframe tbody tr th {\n",
       "        vertical-align: top;\n",
       "    }\n",
       "\n",
       "    .dataframe thead th {\n",
       "        text-align: right;\n",
       "    }\n",
       "</style>\n",
       "<table border=\"1\" class=\"dataframe\">\n",
       "  <thead>\n",
       "    <tr style=\"text-align: right;\">\n",
       "      <th></th>\n",
       "      <th>Site</th>\n",
       "      <th>polyID</th>\n",
       "      <th>classCLC</th>\n",
       "      <th>dist</th>\n",
       "    </tr>\n",
       "  </thead>\n",
       "  <tbody>\n",
       "    <tr>\n",
       "      <th>627</th>\n",
       "      <td>B0158</td>\n",
       "      <td>BE-9408</td>\n",
       "      <td>231</td>\n",
       "      <td>959.550638</td>\n",
       "    </tr>\n",
       "    <tr>\n",
       "      <th>628</th>\n",
       "      <td>B0158</td>\n",
       "      <td>BE-9434</td>\n",
       "      <td>231</td>\n",
       "      <td>1103.848468</td>\n",
       "    </tr>\n",
       "    <tr>\n",
       "      <th>629</th>\n",
       "      <td>B0158</td>\n",
       "      <td>BE-12970</td>\n",
       "      <td>242</td>\n",
       "      <td>1229.411653</td>\n",
       "    </tr>\n",
       "    <tr>\n",
       "      <th>630</th>\n",
       "      <td>B0158</td>\n",
       "      <td>BE-12998</td>\n",
       "      <td>242</td>\n",
       "      <td>1210.875452</td>\n",
       "    </tr>\n",
       "    <tr>\n",
       "      <th>631</th>\n",
       "      <td>B0158</td>\n",
       "      <td>BE-18855</td>\n",
       "      <td>243</td>\n",
       "      <td>0.000000</td>\n",
       "    </tr>\n",
       "  </tbody>\n",
       "</table>\n",
       "</div>"
      ],
      "text/plain": [
       "      Site    polyID  classCLC         dist\n",
       "627  B0158   BE-9408       231   959.550638\n",
       "628  B0158   BE-9434       231  1103.848468\n",
       "629  B0158  BE-12970       242  1229.411653\n",
       "630  B0158  BE-12998       242  1210.875452\n",
       "631  B0158  BE-18855       243     0.000000"
      ]
     },
     "execution_count": 5,
     "metadata": {},
     "output_type": "execute_result"
    }
   ],
   "source": [
    "distsOneSheet.tail()"
   ]
  },
  {
   "cell_type": "code",
   "execution_count": 4,
   "metadata": {
    "ExecuteTime": {
     "end_time": "2021-02-08T14:28:23.958960Z",
     "start_time": "2021-02-08T14:28:23.938323Z"
    }
   },
   "outputs": [
    {
     "data": {
      "text/plain": [
       "(632, 4)"
      ]
     },
     "execution_count": 4,
     "metadata": {},
     "output_type": "execute_result"
    }
   ],
   "source": [
    "distsOneSheet.shape"
   ]
  },
  {
   "cell_type": "code",
   "execution_count": 25,
   "metadata": {
    "ExecuteTime": {
     "end_time": "2021-02-08T16:12:38.568424Z",
     "start_time": "2021-02-08T16:12:38.553956Z"
    }
   },
   "outputs": [],
   "source": [
    "distsOneSheet[\"classCLC1\"] = (distsOneSheet.classCLC/100).astype(int)\n",
    "distsOneSheet[\"classCLC2\"] = (distsOneSheet.classCLC/10).astype(int)\n",
    "distsOneSheet[\"classCLC3\"] = distsOneSheet.classCLC\n"
   ]
  },
  {
   "cell_type": "code",
   "execution_count": 26,
   "metadata": {
    "ExecuteTime": {
     "end_time": "2021-02-08T16:12:40.467124Z",
     "start_time": "2021-02-08T16:12:40.443306Z"
    }
   },
   "outputs": [
    {
     "data": {
      "text/html": [
       "<div>\n",
       "<style scoped>\n",
       "    .dataframe tbody tr th:only-of-type {\n",
       "        vertical-align: middle;\n",
       "    }\n",
       "\n",
       "    .dataframe tbody tr th {\n",
       "        vertical-align: top;\n",
       "    }\n",
       "\n",
       "    .dataframe thead th {\n",
       "        text-align: right;\n",
       "    }\n",
       "</style>\n",
       "<table border=\"1\" class=\"dataframe\">\n",
       "  <thead>\n",
       "    <tr style=\"text-align: right;\">\n",
       "      <th></th>\n",
       "      <th>Site</th>\n",
       "      <th>polyID</th>\n",
       "      <th>classCLC</th>\n",
       "      <th>dist</th>\n",
       "      <th>classCLC1</th>\n",
       "      <th>classCLC2</th>\n",
       "      <th>classCLC3</th>\n",
       "    </tr>\n",
       "  </thead>\n",
       "  <tbody>\n",
       "    <tr>\n",
       "      <th>0</th>\n",
       "      <td>F0069</td>\n",
       "      <td>FR-88090</td>\n",
       "      <td>231</td>\n",
       "      <td>1183.022362</td>\n",
       "      <td>2</td>\n",
       "      <td>23</td>\n",
       "      <td>231</td>\n",
       "    </tr>\n",
       "    <tr>\n",
       "      <th>1</th>\n",
       "      <td>F0069</td>\n",
       "      <td>FR-131773</td>\n",
       "      <td>242</td>\n",
       "      <td>289.926324</td>\n",
       "      <td>2</td>\n",
       "      <td>24</td>\n",
       "      <td>242</td>\n",
       "    </tr>\n",
       "    <tr>\n",
       "      <th>2</th>\n",
       "      <td>F0069</td>\n",
       "      <td>FR-46167</td>\n",
       "      <td>211</td>\n",
       "      <td>221.344153</td>\n",
       "      <td>2</td>\n",
       "      <td>21</td>\n",
       "      <td>211</td>\n",
       "    </tr>\n",
       "    <tr>\n",
       "      <th>3</th>\n",
       "      <td>F0069</td>\n",
       "      <td>FR-11047</td>\n",
       "      <td>112</td>\n",
       "      <td>1038.383069</td>\n",
       "      <td>1</td>\n",
       "      <td>11</td>\n",
       "      <td>112</td>\n",
       "    </tr>\n",
       "    <tr>\n",
       "      <th>4</th>\n",
       "      <td>F0069</td>\n",
       "      <td>FR-195343</td>\n",
       "      <td>311</td>\n",
       "      <td>724.045683</td>\n",
       "      <td>3</td>\n",
       "      <td>31</td>\n",
       "      <td>311</td>\n",
       "    </tr>\n",
       "  </tbody>\n",
       "</table>\n",
       "</div>"
      ],
      "text/plain": [
       "    Site     polyID  classCLC         dist  classCLC1  classCLC2  classCLC3\n",
       "0  F0069   FR-88090       231  1183.022362          2         23        231\n",
       "1  F0069  FR-131773       242   289.926324          2         24        242\n",
       "2  F0069   FR-46167       211   221.344153          2         21        211\n",
       "3  F0069   FR-11047       112  1038.383069          1         11        112\n",
       "4  F0069  FR-195343       311   724.045683          3         31        311"
      ]
     },
     "execution_count": 26,
     "metadata": {},
     "output_type": "execute_result"
    }
   ],
   "source": [
    "distsOneSheet.head()"
   ]
  }
 ],
 "metadata": {
  "kernelspec": {
   "display_name": "base",
   "language": "python",
   "name": "base"
  },
  "language_info": {
   "codemirror_mode": {
    "name": "ipython",
    "version": 3
   },
   "file_extension": ".py",
   "mimetype": "text/x-python",
   "name": "python",
   "nbconvert_exporter": "python",
   "pygments_lexer": "ipython3",
   "version": "3.8.5"
  }
 },
 "nbformat": 4,
 "nbformat_minor": 4
}
