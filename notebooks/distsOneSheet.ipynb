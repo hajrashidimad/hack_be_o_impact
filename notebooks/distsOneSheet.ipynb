{
 "cells": [
  {
   "cell_type": "code",
   "execution_count": 1,
   "metadata": {
    "ExecuteTime": {
     "end_time": "2021-02-08T13:04:20.584821Z",
     "start_time": "2021-02-08T13:04:19.770348Z"
    }
   },
   "outputs": [],
   "source": [
    "import pandas as pd"
   ]
  },
  {
   "cell_type": "code",
   "execution_count": 2,
   "metadata": {
    "ExecuteTime": {
     "end_time": "2021-02-08T13:04:21.259486Z",
     "start_time": "2021-02-08T13:04:20.587432Z"
    }
   },
   "outputs": [],
   "source": [
    "distsOneSheet = pd.read_excel(\"../data/original/distsOneSheet.xlsx\")"
   ]
  },
  {
   "cell_type": "code",
   "execution_count": 3,
   "metadata": {
    "ExecuteTime": {
     "end_time": "2021-02-08T13:04:21.292789Z",
     "start_time": "2021-02-08T13:04:21.264380Z"
    }
   },
   "outputs": [
    {
     "data": {
      "text/html": [
       "<div>\n",
       "<style scoped>\n",
       "    .dataframe tbody tr th:only-of-type {\n",
       "        vertical-align: middle;\n",
       "    }\n",
       "\n",
       "    .dataframe tbody tr th {\n",
       "        vertical-align: top;\n",
       "    }\n",
       "\n",
       "    .dataframe thead th {\n",
       "        text-align: right;\n",
       "    }\n",
       "</style>\n",
       "<table border=\"1\" class=\"dataframe\">\n",
       "  <thead>\n",
       "    <tr style=\"text-align: right;\">\n",
       "      <th></th>\n",
       "      <th>Site</th>\n",
       "      <th>polyID</th>\n",
       "      <th>classCLC</th>\n",
       "      <th>dist</th>\n",
       "    </tr>\n",
       "  </thead>\n",
       "  <tbody>\n",
       "    <tr>\n",
       "      <th>0</th>\n",
       "      <td>F0069</td>\n",
       "      <td>FR-88090</td>\n",
       "      <td>231</td>\n",
       "      <td>1183.022362</td>\n",
       "    </tr>\n",
       "    <tr>\n",
       "      <th>1</th>\n",
       "      <td>F0069</td>\n",
       "      <td>FR-131773</td>\n",
       "      <td>242</td>\n",
       "      <td>289.926324</td>\n",
       "    </tr>\n",
       "    <tr>\n",
       "      <th>2</th>\n",
       "      <td>F0069</td>\n",
       "      <td>FR-46167</td>\n",
       "      <td>211</td>\n",
       "      <td>221.344153</td>\n",
       "    </tr>\n",
       "    <tr>\n",
       "      <th>3</th>\n",
       "      <td>F0069</td>\n",
       "      <td>FR-11047</td>\n",
       "      <td>112</td>\n",
       "      <td>1038.383069</td>\n",
       "    </tr>\n",
       "    <tr>\n",
       "      <th>4</th>\n",
       "      <td>F0069</td>\n",
       "      <td>FR-195343</td>\n",
       "      <td>311</td>\n",
       "      <td>724.045683</td>\n",
       "    </tr>\n",
       "  </tbody>\n",
       "</table>\n",
       "</div>"
      ],
      "text/plain": [
       "    Site     polyID  classCLC         dist\n",
       "0  F0069   FR-88090       231  1183.022362\n",
       "1  F0069  FR-131773       242   289.926324\n",
       "2  F0069   FR-46167       211   221.344153\n",
       "3  F0069   FR-11047       112  1038.383069\n",
       "4  F0069  FR-195343       311   724.045683"
      ]
     },
     "execution_count": 3,
     "metadata": {},
     "output_type": "execute_result"
    }
   ],
   "source": [
    "distsOneSheet.head()"
   ]
  }
 ],
 "metadata": {
  "kernelspec": {
   "display_name": "base",
   "language": "python",
   "name": "base"
  },
  "language_info": {
   "codemirror_mode": {
    "name": "ipython",
    "version": 3
   },
   "file_extension": ".py",
   "mimetype": "text/x-python",
   "name": "python",
   "nbconvert_exporter": "python",
   "pygments_lexer": "ipython3",
   "version": "3.8.5"
  }
 },
 "nbformat": 4,
 "nbformat_minor": 4
}
